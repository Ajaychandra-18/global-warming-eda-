{
 "cells": [
  {
   "cell_type": "markdown",
   "id": "49f26d72",
   "metadata": {},
   "source": [
    "###                                        <font color='red'> EDA FINAL PROJECT </font>"
   ]
  },
  {
   "cell_type": "code",
   "execution_count": null,
   "id": "f175e1ba",
   "metadata": {},
   "outputs": [],
   "source": []
  },
  {
   "cell_type": "code",
   "execution_count": null,
   "id": "a0da285d",
   "metadata": {},
   "outputs": [],
   "source": []
  },
  {
   "cell_type": "code",
   "execution_count": null,
   "id": "da22bf45",
   "metadata": {},
   "outputs": [],
   "source": []
  },
  {
   "cell_type": "code",
   "execution_count": 1,
   "id": "2cdfc9a7",
   "metadata": {},
   "outputs": [],
   "source": [
    "# importing warnings library to avoid \n",
    "import warnings\n",
    "warnings.filterwarnings(\"ignore\") "
   ]
  },
  {
   "cell_type": "code",
   "execution_count": 2,
   "id": "c2179485",
   "metadata": {},
   "outputs": [],
   "source": [
    "import pandas as pd              #it is used for \n",
    "import numpy as np\n",
    "import seaborn as sns            #it is use for data visualization and explotary data analysis\n",
    "import matplotlib.pyplot as plt  #for plotting graphs "
   ]
  },
  {
   "cell_type": "code",
   "execution_count": 4,
   "id": "b559f5ec",
   "metadata": {},
   "outputs": [],
   "source": [
    "df=pd.read_csv('productivity-statistics-1978-2021-csv-tables-corrected.csv')   #Reading the csv File"
   ]
  },
  {
   "cell_type": "code",
   "execution_count": 6,
   "id": "158df962",
   "metadata": {
    "scrolled": true
   },
   "outputs": [
    {
     "data": {
      "text/html": [
       "<div>\n",
       "<style scoped>\n",
       "    .dataframe tbody tr th:only-of-type {\n",
       "        vertical-align: middle;\n",
       "    }\n",
       "\n",
       "    .dataframe tbody tr th {\n",
       "        vertical-align: top;\n",
       "    }\n",
       "\n",
       "    .dataframe thead th {\n",
       "        text-align: right;\n",
       "    }\n",
       "</style>\n",
       "<table border=\"1\" class=\"dataframe\">\n",
       "  <thead>\n",
       "    <tr style=\"text-align: right;\">\n",
       "      <th></th>\n",
       "      <th>Series_reference</th>\n",
       "      <th>Period</th>\n",
       "      <th>Data_value</th>\n",
       "      <th>STATUS</th>\n",
       "      <th>UNITS</th>\n",
       "      <th>MAGNTUDE</th>\n",
       "      <th>Subject</th>\n",
       "      <th>Group</th>\n",
       "      <th>Series_title_1</th>\n",
       "      <th>Series_title_2</th>\n",
       "      <th>Series_title_3</th>\n",
       "      <th>Series_title_4</th>\n",
       "      <th>Series_title_5</th>\n",
       "    </tr>\n",
       "  </thead>\n",
       "  <tbody>\n",
       "    <tr>\n",
       "      <th>0</th>\n",
       "      <td>PRDA.S1CAAZI</td>\n",
       "      <td>1978.03</td>\n",
       "      <td>1000.0</td>\n",
       "      <td>FINAL</td>\n",
       "      <td>Index</td>\n",
       "      <td>0</td>\n",
       "      <td>Productivity Statistics - PRD</td>\n",
       "      <td>Productivity Indexes - Industry Level (ANZSIC06)</td>\n",
       "      <td>Capital</td>\n",
       "      <td>Agriculture, Forestry and Fishing</td>\n",
       "      <td>Index</td>\n",
       "      <td>NaN</td>\n",
       "      <td>NaN</td>\n",
       "    </tr>\n",
       "    <tr>\n",
       "      <th>1</th>\n",
       "      <td>PRDA.S1CAAZI</td>\n",
       "      <td>1979.03</td>\n",
       "      <td>947.0</td>\n",
       "      <td>FINAL</td>\n",
       "      <td>Index</td>\n",
       "      <td>0</td>\n",
       "      <td>Productivity Statistics - PRD</td>\n",
       "      <td>Productivity Indexes - Industry Level (ANZSIC06)</td>\n",
       "      <td>Capital</td>\n",
       "      <td>Agriculture, Forestry and Fishing</td>\n",
       "      <td>Index</td>\n",
       "      <td>NaN</td>\n",
       "      <td>NaN</td>\n",
       "    </tr>\n",
       "    <tr>\n",
       "      <th>2</th>\n",
       "      <td>PRDA.S1CAAZI</td>\n",
       "      <td>1980.03</td>\n",
       "      <td>1054.0</td>\n",
       "      <td>FINAL</td>\n",
       "      <td>Index</td>\n",
       "      <td>0</td>\n",
       "      <td>Productivity Statistics - PRD</td>\n",
       "      <td>Productivity Indexes - Industry Level (ANZSIC06)</td>\n",
       "      <td>Capital</td>\n",
       "      <td>Agriculture, Forestry and Fishing</td>\n",
       "      <td>Index</td>\n",
       "      <td>NaN</td>\n",
       "      <td>NaN</td>\n",
       "    </tr>\n",
       "    <tr>\n",
       "      <th>3</th>\n",
       "      <td>PRDA.S1CAAZI</td>\n",
       "      <td>1981.03</td>\n",
       "      <td>1167.0</td>\n",
       "      <td>FINAL</td>\n",
       "      <td>Index</td>\n",
       "      <td>0</td>\n",
       "      <td>Productivity Statistics - PRD</td>\n",
       "      <td>Productivity Indexes - Industry Level (ANZSIC06)</td>\n",
       "      <td>Capital</td>\n",
       "      <td>Agriculture, Forestry and Fishing</td>\n",
       "      <td>Index</td>\n",
       "      <td>NaN</td>\n",
       "      <td>NaN</td>\n",
       "    </tr>\n",
       "  </tbody>\n",
       "</table>\n",
       "</div>"
      ],
      "text/plain": [
       "  Series_reference   Period  Data_value STATUS  UNITS  MAGNTUDE  \\\n",
       "0     PRDA.S1CAAZI  1978.03      1000.0  FINAL  Index         0   \n",
       "1     PRDA.S1CAAZI  1979.03       947.0  FINAL  Index         0   \n",
       "2     PRDA.S1CAAZI  1980.03      1054.0  FINAL  Index         0   \n",
       "3     PRDA.S1CAAZI  1981.03      1167.0  FINAL  Index         0   \n",
       "\n",
       "                         Subject  \\\n",
       "0  Productivity Statistics - PRD   \n",
       "1  Productivity Statistics - PRD   \n",
       "2  Productivity Statistics - PRD   \n",
       "3  Productivity Statistics - PRD   \n",
       "\n",
       "                                              Group Series_title_1  \\\n",
       "0  Productivity Indexes - Industry Level (ANZSIC06)        Capital   \n",
       "1  Productivity Indexes - Industry Level (ANZSIC06)        Capital   \n",
       "2  Productivity Indexes - Industry Level (ANZSIC06)        Capital   \n",
       "3  Productivity Indexes - Industry Level (ANZSIC06)        Capital   \n",
       "\n",
       "                      Series_title_2 Series_title_3  Series_title_4  \\\n",
       "0  Agriculture, Forestry and Fishing          Index             NaN   \n",
       "1  Agriculture, Forestry and Fishing          Index             NaN   \n",
       "2  Agriculture, Forestry and Fishing          Index             NaN   \n",
       "3  Agriculture, Forestry and Fishing          Index             NaN   \n",
       "\n",
       "   Series_title_5  \n",
       "0             NaN  \n",
       "1             NaN  \n",
       "2             NaN  \n",
       "3             NaN  "
      ]
     },
     "execution_count": 6,
     "metadata": {},
     "output_type": "execute_result"
    }
   ],
   "source": [
    "df.head(4)    # df.head(n) will print the 'n' Rows . by default it will print 5 rows "
   ]
  },
  {
   "cell_type": "code",
   "execution_count": 7,
   "id": "f62a3901",
   "metadata": {},
   "outputs": [
    {
     "data": {
      "text/html": [
       "<div>\n",
       "<style scoped>\n",
       "    .dataframe tbody tr th:only-of-type {\n",
       "        vertical-align: middle;\n",
       "    }\n",
       "\n",
       "    .dataframe tbody tr th {\n",
       "        vertical-align: top;\n",
       "    }\n",
       "\n",
       "    .dataframe thead th {\n",
       "        text-align: right;\n",
       "    }\n",
       "</style>\n",
       "<table border=\"1\" class=\"dataframe\">\n",
       "  <thead>\n",
       "    <tr style=\"text-align: right;\">\n",
       "      <th></th>\n",
       "      <th>Series_reference</th>\n",
       "      <th>Period</th>\n",
       "      <th>Data_value</th>\n",
       "      <th>STATUS</th>\n",
       "      <th>UNITS</th>\n",
       "      <th>MAGNTUDE</th>\n",
       "      <th>Subject</th>\n",
       "      <th>Group</th>\n",
       "      <th>Series_title_1</th>\n",
       "      <th>Series_title_2</th>\n",
       "      <th>Series_title_3</th>\n",
       "      <th>Series_title_4</th>\n",
       "      <th>Series_title_5</th>\n",
       "    </tr>\n",
       "  </thead>\n",
       "  <tbody>\n",
       "    <tr>\n",
       "      <th>14394</th>\n",
       "      <td>PRDA.S4LMSZP</td>\n",
       "      <td>2018.03</td>\n",
       "      <td>1.3</td>\n",
       "      <td>FINAL</td>\n",
       "      <td>Percent</td>\n",
       "      <td>0</td>\n",
       "      <td>Productivity Statistics - PRD</td>\n",
       "      <td>Productivity Growth Accounting (ANZSIC06)</td>\n",
       "      <td>Annual percentage change, labour inputs index,...</td>\n",
       "      <td>NaN</td>\n",
       "      <td>NaN</td>\n",
       "      <td>NaN</td>\n",
       "      <td>NaN</td>\n",
       "    </tr>\n",
       "    <tr>\n",
       "      <th>14395</th>\n",
       "      <td>PRDA.S4LMSZP</td>\n",
       "      <td>2019.03</td>\n",
       "      <td>1.7</td>\n",
       "      <td>FINAL</td>\n",
       "      <td>Percent</td>\n",
       "      <td>0</td>\n",
       "      <td>Productivity Statistics - PRD</td>\n",
       "      <td>Productivity Growth Accounting (ANZSIC06)</td>\n",
       "      <td>Annual percentage change, labour inputs index,...</td>\n",
       "      <td>NaN</td>\n",
       "      <td>NaN</td>\n",
       "      <td>NaN</td>\n",
       "      <td>NaN</td>\n",
       "    </tr>\n",
       "    <tr>\n",
       "      <th>14396</th>\n",
       "      <td>PRDA.S4LMSZP</td>\n",
       "      <td>2020.03</td>\n",
       "      <td>0.5</td>\n",
       "      <td>FINAL</td>\n",
       "      <td>Percent</td>\n",
       "      <td>0</td>\n",
       "      <td>Productivity Statistics - PRD</td>\n",
       "      <td>Productivity Growth Accounting (ANZSIC06)</td>\n",
       "      <td>Annual percentage change, labour inputs index,...</td>\n",
       "      <td>NaN</td>\n",
       "      <td>NaN</td>\n",
       "      <td>NaN</td>\n",
       "      <td>NaN</td>\n",
       "    </tr>\n",
       "    <tr>\n",
       "      <th>14397</th>\n",
       "      <td>PRDA.S4LMSZP</td>\n",
       "      <td>2021.03</td>\n",
       "      <td>-1.7</td>\n",
       "      <td>PROVISIONAL</td>\n",
       "      <td>Percent</td>\n",
       "      <td>0</td>\n",
       "      <td>Productivity Statistics - PRD</td>\n",
       "      <td>Productivity Growth Accounting (ANZSIC06)</td>\n",
       "      <td>Annual percentage change, labour inputs index,...</td>\n",
       "      <td>NaN</td>\n",
       "      <td>NaN</td>\n",
       "      <td>NaN</td>\n",
       "      <td>NaN</td>\n",
       "    </tr>\n",
       "  </tbody>\n",
       "</table>\n",
       "</div>"
      ],
      "text/plain": [
       "      Series_reference   Period  Data_value       STATUS    UNITS  MAGNTUDE  \\\n",
       "14394     PRDA.S4LMSZP  2018.03         1.3        FINAL  Percent         0   \n",
       "14395     PRDA.S4LMSZP  2019.03         1.7        FINAL  Percent         0   \n",
       "14396     PRDA.S4LMSZP  2020.03         0.5        FINAL  Percent         0   \n",
       "14397     PRDA.S4LMSZP  2021.03        -1.7  PROVISIONAL  Percent         0   \n",
       "\n",
       "                             Subject  \\\n",
       "14394  Productivity Statistics - PRD   \n",
       "14395  Productivity Statistics - PRD   \n",
       "14396  Productivity Statistics - PRD   \n",
       "14397  Productivity Statistics - PRD   \n",
       "\n",
       "                                           Group  \\\n",
       "14394  Productivity Growth Accounting (ANZSIC06)   \n",
       "14395  Productivity Growth Accounting (ANZSIC06)   \n",
       "14396  Productivity Growth Accounting (ANZSIC06)   \n",
       "14397  Productivity Growth Accounting (ANZSIC06)   \n",
       "\n",
       "                                          Series_title_1 Series_title_2  \\\n",
       "14394  Annual percentage change, labour inputs index,...            NaN   \n",
       "14395  Annual percentage change, labour inputs index,...            NaN   \n",
       "14396  Annual percentage change, labour inputs index,...            NaN   \n",
       "14397  Annual percentage change, labour inputs index,...            NaN   \n",
       "\n",
       "      Series_title_3  Series_title_4  Series_title_5  \n",
       "14394            NaN             NaN             NaN  \n",
       "14395            NaN             NaN             NaN  \n",
       "14396            NaN             NaN             NaN  \n",
       "14397            NaN             NaN             NaN  "
      ]
     },
     "execution_count": 7,
     "metadata": {},
     "output_type": "execute_result"
    }
   ],
   "source": [
    "df.tail(4)      # d.ftail will last the last five rows "
   ]
  },
  {
   "cell_type": "code",
   "execution_count": 5,
   "id": "4d3328bd",
   "metadata": {
    "scrolled": true
   },
   "outputs": [
    {
     "name": "stdout",
     "output_type": "stream",
     "text": [
      "<class 'pandas.core.frame.DataFrame'>\n",
      "RangeIndex: 14398 entries, 0 to 14397\n",
      "Data columns (total 13 columns):\n",
      " #   Column            Non-Null Count  Dtype  \n",
      "---  ------            --------------  -----  \n",
      " 0   Series_reference  14398 non-null  object \n",
      " 1   Period            14398 non-null  float64\n",
      " 2   Data_value        14398 non-null  float64\n",
      " 3   STATUS            14398 non-null  object \n",
      " 4   UNITS             14398 non-null  object \n",
      " 5   MAGNTUDE          14398 non-null  int64  \n",
      " 6   Subject           14398 non-null  object \n",
      " 7   Group             14398 non-null  object \n",
      " 8   Series_title_1    14398 non-null  object \n",
      " 9   Series_title_2    13864 non-null  object \n",
      " 10  Series_title_3    13864 non-null  object \n",
      " 11  Series_title_4    0 non-null      float64\n",
      " 12  Series_title_5    0 non-null      float64\n",
      "dtypes: float64(4), int64(1), object(8)\n",
      "memory usage: 1.4+ MB\n"
     ]
    }
   ],
   "source": [
    "df.info()     # df.info() gives you more information about the data set"
   ]
  },
  {
   "cell_type": "code",
   "execution_count": null,
   "id": "05b64a4d",
   "metadata": {},
   "outputs": [],
   "source": []
  },
  {
   "cell_type": "code",
   "execution_count": 7,
   "id": "bebfe0e0",
   "metadata": {},
   "outputs": [
    {
     "data": {
      "text/html": [
       "<div>\n",
       "<style scoped>\n",
       "    .dataframe tbody tr th:only-of-type {\n",
       "        vertical-align: middle;\n",
       "    }\n",
       "\n",
       "    .dataframe tbody tr th {\n",
       "        vertical-align: top;\n",
       "    }\n",
       "\n",
       "    .dataframe thead th {\n",
       "        text-align: right;\n",
       "    }\n",
       "</style>\n",
       "<table border=\"1\" class=\"dataframe\">\n",
       "  <thead>\n",
       "    <tr style=\"text-align: right;\">\n",
       "      <th></th>\n",
       "      <th>Period</th>\n",
       "      <th>Data_value</th>\n",
       "      <th>MAGNTUDE</th>\n",
       "      <th>Series_title_4</th>\n",
       "      <th>Series_title_5</th>\n",
       "    </tr>\n",
       "  </thead>\n",
       "  <tbody>\n",
       "    <tr>\n",
       "      <th>count</th>\n",
       "      <td>14398.000000</td>\n",
       "      <td>14398.000000</td>\n",
       "      <td>14398.000000</td>\n",
       "      <td>0.0</td>\n",
       "      <td>0.0</td>\n",
       "    </tr>\n",
       "    <tr>\n",
       "      <th>mean</th>\n",
       "      <td>2002.162171</td>\n",
       "      <td>1052.156036</td>\n",
       "      <td>0.087929</td>\n",
       "      <td>NaN</td>\n",
       "      <td>NaN</td>\n",
       "    </tr>\n",
       "    <tr>\n",
       "      <th>std</th>\n",
       "      <td>12.111116</td>\n",
       "      <td>3419.995682</td>\n",
       "      <td>0.506036</td>\n",
       "      <td>NaN</td>\n",
       "      <td>NaN</td>\n",
       "    </tr>\n",
       "    <tr>\n",
       "      <th>min</th>\n",
       "      <td>1978.030000</td>\n",
       "      <td>-28.900000</td>\n",
       "      <td>0.000000</td>\n",
       "      <td>NaN</td>\n",
       "      <td>NaN</td>\n",
       "    </tr>\n",
       "    <tr>\n",
       "      <th>25%</th>\n",
       "      <td>1993.030000</td>\n",
       "      <td>1.600000</td>\n",
       "      <td>0.000000</td>\n",
       "      <td>NaN</td>\n",
       "      <td>NaN</td>\n",
       "    </tr>\n",
       "    <tr>\n",
       "      <th>50%</th>\n",
       "      <td>2003.030000</td>\n",
       "      <td>598.500000</td>\n",
       "      <td>0.000000</td>\n",
       "      <td>NaN</td>\n",
       "      <td>NaN</td>\n",
       "    </tr>\n",
       "    <tr>\n",
       "      <th>75%</th>\n",
       "      <td>2012.030000</td>\n",
       "      <td>1298.000000</td>\n",
       "      <td>0.000000</td>\n",
       "      <td>NaN</td>\n",
       "      <td>NaN</td>\n",
       "    </tr>\n",
       "    <tr>\n",
       "      <th>max</th>\n",
       "      <td>2021.030000</td>\n",
       "      <td>64505.000000</td>\n",
       "      <td>3.000000</td>\n",
       "      <td>NaN</td>\n",
       "      <td>NaN</td>\n",
       "    </tr>\n",
       "  </tbody>\n",
       "</table>\n",
       "</div>"
      ],
      "text/plain": [
       "             Period    Data_value      MAGNTUDE  Series_title_4  \\\n",
       "count  14398.000000  14398.000000  14398.000000             0.0   \n",
       "mean    2002.162171   1052.156036      0.087929             NaN   \n",
       "std       12.111116   3419.995682      0.506036             NaN   \n",
       "min     1978.030000    -28.900000      0.000000             NaN   \n",
       "25%     1993.030000      1.600000      0.000000             NaN   \n",
       "50%     2003.030000    598.500000      0.000000             NaN   \n",
       "75%     2012.030000   1298.000000      0.000000             NaN   \n",
       "max     2021.030000  64505.000000      3.000000             NaN   \n",
       "\n",
       "       Series_title_5  \n",
       "count             0.0  \n",
       "mean              NaN  \n",
       "std               NaN  \n",
       "min               NaN  \n",
       "25%               NaN  \n",
       "50%               NaN  \n",
       "75%               NaN  \n",
       "max               NaN  "
      ]
     },
     "execution_count": 7,
     "metadata": {},
     "output_type": "execute_result"
    }
   ],
   "source": [
    "df.describe()    #The describe() method returns description of the data in the DataFrame."
   ]
  },
  {
   "cell_type": "code",
   "execution_count": null,
   "id": "caacbd45",
   "metadata": {},
   "outputs": [],
   "source": []
  },
  {
   "cell_type": "code",
   "execution_count": 6,
   "id": "b8889b00",
   "metadata": {},
   "outputs": [
    {
     "data": {
      "text/plain": [
       "(14398, 13)"
      ]
     },
     "execution_count": 6,
     "metadata": {},
     "output_type": "execute_result"
    }
   ],
   "source": [
    "df.shape  # df.shape() will return the no.of rows & No.of  coloumns   NOTE:shape is an attribute not a method so just use shape"
   ]
  },
  {
   "cell_type": "code",
   "execution_count": 15,
   "id": "47904f40",
   "metadata": {},
   "outputs": [
    {
     "data": {
      "text/plain": [
       "Index(['Series_reference', 'Period', 'Data_value', 'STATUS', 'UNITS',\n",
       "       'MAGNTUDE', 'Subject', 'Group', 'Series_title_1', 'Series_title_2',\n",
       "       'Series_title_3', 'Series_title_4', 'Series_title_5'],\n",
       "      dtype='object')"
      ]
     },
     "execution_count": 15,
     "metadata": {},
     "output_type": "execute_result"
    }
   ],
   "source": [
    "df.columns   # checking for the columns"
   ]
  },
  {
   "cell_type": "code",
   "execution_count": 16,
   "id": "b1dc37fa",
   "metadata": {},
   "outputs": [
    {
     "data": {
      "text/plain": [
       "Series_reference     394\n",
       "Period                44\n",
       "Data_value          2970\n",
       "STATUS                 3\n",
       "UNITS                  4\n",
       "MAGNTUDE               2\n",
       "Subject                1\n",
       "Group                  8\n",
       "Series_title_1        29\n",
       "Series_title_2        22\n",
       "Series_title_3         3\n",
       "Series_title_4         0\n",
       "Series_title_5         0\n",
       "dtype: int64"
      ]
     },
     "execution_count": 16,
     "metadata": {},
     "output_type": "execute_result"
    }
   ],
   "source": [
    "df.nunique()    #shows the unique values"
   ]
  },
  {
   "cell_type": "code",
   "execution_count": 21,
   "id": "525c5a95",
   "metadata": {},
   "outputs": [
    {
     "data": {
      "text/plain": [
       "array(['FINAL', 'REVISED', 'PROVISIONAL'], dtype=object)"
      ]
     },
     "execution_count": 21,
     "metadata": {},
     "output_type": "execute_result"
    }
   ],
   "source": [
    "df['STATUS'].unique()   # The unique values of STATUS"
   ]
  },
  {
   "cell_type": "code",
   "execution_count": 23,
   "id": "8df82c27",
   "metadata": {},
   "outputs": [
    {
     "data": {
      "text/plain": [
       "array([1978.03, 1979.03, 1980.03, 1981.03, 1982.03, 1983.03, 1984.03,\n",
       "       1985.03, 1986.03, 1987.03, 1988.03, 1989.03, 1990.03, 1991.03,\n",
       "       1992.03, 1993.03, 1994.03, 1995.03, 1996.03, 1997.03, 1998.03,\n",
       "       1999.03, 2000.03, 2001.03, 2002.03, 2003.03, 2004.03, 2005.03,\n",
       "       2006.03, 2007.03, 2008.03, 2009.03, 2010.03, 2011.03, 2012.03,\n",
       "       2013.03, 2014.03, 2015.03, 2016.03, 2017.03, 2018.03, 2019.03,\n",
       "       2020.03, 2021.03])"
      ]
     },
     "execution_count": 23,
     "metadata": {},
     "output_type": "execute_result"
    }
   ],
   "source": [
    "df['Period'].unique()"
   ]
  },
  {
   "cell_type": "code",
   "execution_count": 24,
   "id": "a6b01116",
   "metadata": {},
   "outputs": [
    {
     "data": {
      "text/plain": [
       "array(['Productivity Statistics - PRD'], dtype=object)"
      ]
     },
     "execution_count": 24,
     "metadata": {},
     "output_type": "execute_result"
    }
   ],
   "source": [
    "df['Subject'].unique()"
   ]
  },
  {
   "cell_type": "code",
   "execution_count": 26,
   "id": "f56ecc00",
   "metadata": {},
   "outputs": [
    {
     "data": {
      "text/plain": [
       "array([nan])"
      ]
     },
     "execution_count": 26,
     "metadata": {},
     "output_type": "execute_result"
    }
   ],
   "source": [
    "df['Series_title_5'].unique()    # Here the unique values of Seies_title_5 is Zero ....Therefore NOne .."
   ]
  },
  {
   "cell_type": "code",
   "execution_count": null,
   "id": "580032fd",
   "metadata": {},
   "outputs": [],
   "source": [
    "# Cleaning the data set"
   ]
  },
  {
   "cell_type": "code",
   "execution_count": 10,
   "id": "5922064e",
   "metadata": {},
   "outputs": [
    {
     "data": {
      "text/plain": [
       "Series_reference        0\n",
       "Period                  0\n",
       "Data_value              0\n",
       "STATUS                  0\n",
       "UNITS                   0\n",
       "MAGNTUDE                0\n",
       "Subject                 0\n",
       "Group                   0\n",
       "Series_title_1          0\n",
       "Series_title_2        534\n",
       "Series_title_3        534\n",
       "Series_title_4      14398\n",
       "Series_title_5      14398\n",
       "dtype: int64"
      ]
     },
     "execution_count": 10,
     "metadata": {},
     "output_type": "execute_result"
    }
   ],
   "source": [
    "df.isnull().sum()      #returns the no.of missing values/ Null values  in the data set"
   ]
  },
  {
   "cell_type": "code",
   "execution_count": 9,
   "id": "6b2acb7c",
   "metadata": {},
   "outputs": [
    {
     "data": {
      "text/plain": [
       "Series_reference    PRDA.S1CAAZIPRDA.S1CAAZIPRDA.S1CAAZIPRDA.S1CAA...\n",
       "Period                                                    28827130.94\n",
       "Data_value                                                 15148942.6\n",
       "STATUS              FINALFINALFINALFINALFINALFINALFINALFINALFINALF...\n",
       "UNITS               IndexIndexIndexIndexIndexIndexIndexIndexIndexI...\n",
       "MAGNTUDE                                                         1266\n",
       "Subject             Productivity Statistics - PRDProductivity Stat...\n",
       "Group               Productivity Indexes - Industry Level (ANZSIC0...\n",
       "Series_title_1      CapitalCapitalCapitalCapitalCapitalCapitalCapi...\n",
       "Series_title_4                                                    0.0\n",
       "Series_title_5                                                    0.0\n",
       "dtype: object"
      ]
     },
     "execution_count": 9,
     "metadata": {},
     "output_type": "execute_result"
    }
   ],
   "source": [
    "df.sum()      #The sum() method adds all values in each column and returns the sum for each column"
   ]
  },
  {
   "cell_type": "code",
   "execution_count": null,
   "id": "b792c207",
   "metadata": {},
   "outputs": [],
   "source": []
  },
  {
   "cell_type": "code",
   "execution_count": 45,
   "id": "8c4ea8db",
   "metadata": {},
   "outputs": [
    {
     "data": {
      "text/html": [
       "<div>\n",
       "<style scoped>\n",
       "    .dataframe tbody tr th:only-of-type {\n",
       "        vertical-align: middle;\n",
       "    }\n",
       "\n",
       "    .dataframe tbody tr th {\n",
       "        vertical-align: top;\n",
       "    }\n",
       "\n",
       "    .dataframe thead th {\n",
       "        text-align: right;\n",
       "    }\n",
       "</style>\n",
       "<table border=\"1\" class=\"dataframe\">\n",
       "  <thead>\n",
       "    <tr style=\"text-align: right;\">\n",
       "      <th></th>\n",
       "      <th>Series_reference</th>\n",
       "      <th>Period</th>\n",
       "      <th>Data_value</th>\n",
       "      <th>STATUS</th>\n",
       "      <th>UNITS</th>\n",
       "      <th>MAGNTUDE</th>\n",
       "      <th>Subject</th>\n",
       "      <th>Group</th>\n",
       "      <th>Series_title_1</th>\n",
       "      <th>Series_title_3</th>\n",
       "      <th>Series_title_4</th>\n",
       "      <th>Series_title_5</th>\n",
       "    </tr>\n",
       "  </thead>\n",
       "  <tbody>\n",
       "    <tr>\n",
       "      <th>0</th>\n",
       "      <td>PRDA.S1CAAZI</td>\n",
       "      <td>1978.03</td>\n",
       "      <td>1000.0</td>\n",
       "      <td>FINAL</td>\n",
       "      <td>Index</td>\n",
       "      <td>0</td>\n",
       "      <td>Productivity Statistics - PRD</td>\n",
       "      <td>Productivity Indexes - Industry Level (ANZSIC06)</td>\n",
       "      <td>Capital</td>\n",
       "      <td>Index</td>\n",
       "      <td>NaN</td>\n",
       "      <td>NaN</td>\n",
       "    </tr>\n",
       "    <tr>\n",
       "      <th>1</th>\n",
       "      <td>PRDA.S1CAAZI</td>\n",
       "      <td>1979.03</td>\n",
       "      <td>947.0</td>\n",
       "      <td>FINAL</td>\n",
       "      <td>Index</td>\n",
       "      <td>0</td>\n",
       "      <td>Productivity Statistics - PRD</td>\n",
       "      <td>Productivity Indexes - Industry Level (ANZSIC06)</td>\n",
       "      <td>Capital</td>\n",
       "      <td>Index</td>\n",
       "      <td>NaN</td>\n",
       "      <td>NaN</td>\n",
       "    </tr>\n",
       "    <tr>\n",
       "      <th>2</th>\n",
       "      <td>PRDA.S1CAAZI</td>\n",
       "      <td>1980.03</td>\n",
       "      <td>1054.0</td>\n",
       "      <td>FINAL</td>\n",
       "      <td>Index</td>\n",
       "      <td>0</td>\n",
       "      <td>Productivity Statistics - PRD</td>\n",
       "      <td>Productivity Indexes - Industry Level (ANZSIC06)</td>\n",
       "      <td>Capital</td>\n",
       "      <td>Index</td>\n",
       "      <td>NaN</td>\n",
       "      <td>NaN</td>\n",
       "    </tr>\n",
       "    <tr>\n",
       "      <th>3</th>\n",
       "      <td>PRDA.S1CAAZI</td>\n",
       "      <td>1981.03</td>\n",
       "      <td>1167.0</td>\n",
       "      <td>FINAL</td>\n",
       "      <td>Index</td>\n",
       "      <td>0</td>\n",
       "      <td>Productivity Statistics - PRD</td>\n",
       "      <td>Productivity Indexes - Industry Level (ANZSIC06)</td>\n",
       "      <td>Capital</td>\n",
       "      <td>Index</td>\n",
       "      <td>NaN</td>\n",
       "      <td>NaN</td>\n",
       "    </tr>\n",
       "    <tr>\n",
       "      <th>4</th>\n",
       "      <td>PRDA.S1CAAZI</td>\n",
       "      <td>1982.03</td>\n",
       "      <td>1144.0</td>\n",
       "      <td>FINAL</td>\n",
       "      <td>Index</td>\n",
       "      <td>0</td>\n",
       "      <td>Productivity Statistics - PRD</td>\n",
       "      <td>Productivity Indexes - Industry Level (ANZSIC06)</td>\n",
       "      <td>Capital</td>\n",
       "      <td>Index</td>\n",
       "      <td>NaN</td>\n",
       "      <td>NaN</td>\n",
       "    </tr>\n",
       "  </tbody>\n",
       "</table>\n",
       "</div>"
      ],
      "text/plain": [
       "  Series_reference   Period  Data_value STATUS  UNITS  MAGNTUDE  \\\n",
       "0     PRDA.S1CAAZI  1978.03      1000.0  FINAL  Index         0   \n",
       "1     PRDA.S1CAAZI  1979.03       947.0  FINAL  Index         0   \n",
       "2     PRDA.S1CAAZI  1980.03      1054.0  FINAL  Index         0   \n",
       "3     PRDA.S1CAAZI  1981.03      1167.0  FINAL  Index         0   \n",
       "4     PRDA.S1CAAZI  1982.03      1144.0  FINAL  Index         0   \n",
       "\n",
       "                         Subject  \\\n",
       "0  Productivity Statistics - PRD   \n",
       "1  Productivity Statistics - PRD   \n",
       "2  Productivity Statistics - PRD   \n",
       "3  Productivity Statistics - PRD   \n",
       "4  Productivity Statistics - PRD   \n",
       "\n",
       "                                              Group Series_title_1  \\\n",
       "0  Productivity Indexes - Industry Level (ANZSIC06)        Capital   \n",
       "1  Productivity Indexes - Industry Level (ANZSIC06)        Capital   \n",
       "2  Productivity Indexes - Industry Level (ANZSIC06)        Capital   \n",
       "3  Productivity Indexes - Industry Level (ANZSIC06)        Capital   \n",
       "4  Productivity Indexes - Industry Level (ANZSIC06)        Capital   \n",
       "\n",
       "  Series_title_3  Series_title_4  Series_title_5  \n",
       "0          Index             NaN             NaN  \n",
       "1          Index             NaN             NaN  \n",
       "2          Index             NaN             NaN  \n",
       "3          Index             NaN             NaN  \n",
       "4          Index             NaN             NaN  "
      ]
     },
     "execution_count": 45,
     "metadata": {},
     "output_type": "execute_result"
    }
   ],
   "source": [
    "\n",
    "df=df.drop(['Series_title_2'], axis=1)\n",
    "df.head()"
   ]
  },
  {
   "cell_type": "code",
   "execution_count": null,
   "id": "2cda820c",
   "metadata": {},
   "outputs": [],
   "source": [
    "# Outlier "
   ]
  },
  {
   "cell_type": "code",
   "execution_count": null,
   "id": "9843ed78",
   "metadata": {},
   "outputs": [],
   "source": []
  },
  {
   "cell_type": "code",
   "execution_count": null,
   "id": "9fcef1c3",
   "metadata": {},
   "outputs": [],
   "source": []
  },
  {
   "cell_type": "code",
   "execution_count": null,
   "id": "8665aa13",
   "metadata": {},
   "outputs": [],
   "source": [
    "#3 Relationship analysis"
   ]
  },
  {
   "cell_type": "code",
   "execution_count": 47,
   "id": "6208ff1e",
   "metadata": {},
   "outputs": [],
   "source": [
    "corelation =  df.corr()"
   ]
  },
  {
   "cell_type": "code",
   "execution_count": 48,
   "id": "18b5b7ce",
   "metadata": {},
   "outputs": [
    {
     "data": {
      "text/plain": [
       "<AxesSubplot:>"
      ]
     },
     "execution_count": 48,
     "metadata": {},
     "output_type": "execute_result"
    },
    {
     "data": {
      "image/png": "[encoded data removed]",
      "text/plain": [
       "<Figure size 432x288 with 2 Axes>"
      ]
     },
     "metadata": {
      "needs_background": "light"
     },
     "output_type": "display_data"
    }
   ],
   "source": [
    "sns.heatmap(corelation,xticklabels=corelation.columns,yticklabels=corelation.columns,annot=True)   #Heat Map"
   ]
  },
  {
   "cell_type": "code",
   "execution_count": 49,
   "id": "7b652006",
   "metadata": {
    "scrolled": true
   },
   "outputs": [
    {
     "data": {
      "text/plain": [
       "<seaborn.axisgrid.PairGrid at 0x247b0494610>"
      ]
     },
     "execution_count": 49,
     "metadata": {},
     "output_type": "execute_result"
    },
    {
     "data": {
      "image/png": "[encoded data removed]",
      "text/plain": [
       "<Figure size 900x900 with 30 Axes>"
      ]
     },
     "metadata": {
      "needs_background": "light"
     },
     "output_type": "display_data"
    }
   ],
   "source": [
    "sns.pairplot(df)   # is when you want to visualize the relationship between two variables "
   ]
  },
  {
   "cell_type": "code",
   "execution_count": 57,
   "id": "dfaed85b",
   "metadata": {},
   "outputs": [
    {
     "data": {
      "text/plain": [
       "<seaborn.axisgrid.FacetGrid at 0x247b3744cd0>"
      ]
     },
     "execution_count": 57,
     "metadata": {},
     "output_type": "execute_result"
    },
    {
     "data": {
      "image/png": "[encoded data removed]",
      "text/plain": [
       "<Figure size 436x360 with 1 Axes>"
      ]
     },
     "metadata": {
      "needs_background": "light"
     },
     "output_type": "display_data"
    }
   ],
   "source": [
    "sns.relplot(x='Period', y='MAGNTUDE', hue='UNITS', data=df)   #Scatter plot"
   ]
  },
  {
   "cell_type": "code",
   "execution_count": 11,
   "id": "bb33dbaa",
   "metadata": {},
   "outputs": [
    {
     "data": {
      "text/plain": [
       "<AxesSubplot:>"
      ]
     },
     "execution_count": 11,
     "metadata": {},
     "output_type": "execute_result"
    },
    {
     "data": {
      "image/png": "[encoded data removed]",
      "text/plain": [
       "<Figure size 432x288 with 1 Axes>"
      ]
     },
     "metadata": {
      "needs_background": "light"
     },
     "output_type": "display_data"
    }
   ],
   "source": [
    "df.plot()"
   ]
  },
  {
   "cell_type": "code",
   "execution_count": 5,
   "id": "3a589a60",
   "metadata": {},
   "outputs": [
    {
     "data": {
      "text/plain": [
       "<AxesSubplot:xlabel='Period', ylabel='Density'>"
      ]
     },
     "execution_count": 5,
     "metadata": {},
     "output_type": "execute_result"
    },
    {
     "data": {
      "image/png": "[encoded data removed]",
      "text/plain": [
       "<Figure size 432x288 with 1 Axes>"
      ]
     },
     "metadata": {
      "needs_background": "light"
     },
     "output_type": "display_data"
    }
   ],
   "source": [
    "sns.distplot(df['Period'])"
   ]
  },
  {
   "cell_type": "code",
   "execution_count": 63,
   "id": "2adcc84a",
   "metadata": {},
   "outputs": [
    {
     "data": {
      "text/plain": [
       "<seaborn.axisgrid.FacetGrid at 0x247b4cf33a0>"
      ]
     },
     "execution_count": 63,
     "metadata": {},
     "output_type": "execute_result"
    },
    {
     "data": {
      "image/png": "[encoded data removed]",
      "text/plain": [
       "<Figure size 360x360 with 1 Axes>"
      ]
     },
     "metadata": {
      "needs_background": "light"
     },
     "output_type": "display_data"
    }
   ],
   "source": [
    "sns.catplot(x='Period', kind ='box' , data =df)"
   ]
  },
  {
   "cell_type": "code",
   "execution_count": null,
   "id": "271324c1",
   "metadata": {},
   "outputs": [],
   "source": []
  },
  {
   "cell_type": "code",
   "execution_count": null,
   "id": "fad52474",
   "metadata": {},
   "outputs": [],
   "source": []
  },
  {
   "cell_type": "code",
   "execution_count": null,
   "id": "334837a4",
   "metadata": {},
   "outputs": [],
   "source": []
  },
  {
   "cell_type": "code",
   "execution_count": null,
   "id": "9c715180",
   "metadata": {},
   "outputs": [],
   "source": []
  },
  {
   "cell_type": "code",
   "execution_count": 12,
   "id": "9b339c84",
   "metadata": {},
   "outputs": [
    {
     "data": {
      "text/plain": [
       "0        1000.0\n",
       "1         947.0\n",
       "2        1054.0\n",
       "3        1167.0\n",
       "4        1144.0\n",
       "          ...  \n",
       "14393       1.7\n",
       "14394       1.3\n",
       "14395       1.7\n",
       "14396       0.5\n",
       "14397      -1.7\n",
       "Name: Data_value, Length: 14398, dtype: float64"
      ]
     },
     "execution_count": 12,
     "metadata": {},
     "output_type": "execute_result"
    }
   ],
   "source": [
    "df.Data_value"
   ]
  },
  {
   "cell_type": "code",
   "execution_count": 13,
   "id": "3f8d6353",
   "metadata": {},
   "outputs": [
    {
     "data": {
      "text/plain": [
       "0        0\n",
       "1        0\n",
       "2        0\n",
       "3        0\n",
       "4        0\n",
       "        ..\n",
       "14393    0\n",
       "14394    0\n",
       "14395    0\n",
       "14396    0\n",
       "14397    0\n",
       "Name: MAGNTUDE, Length: 14398, dtype: int64"
      ]
     },
     "execution_count": 13,
     "metadata": {},
     "output_type": "execute_result"
    }
   ],
   "source": [
    "df.MAGNTUDE"
   ]
  },
  {
   "cell_type": "code",
   "execution_count": null,
   "id": "ba3423f6",
   "metadata": {},
   "outputs": [],
   "source": []
  },
  {
   "cell_type": "code",
   "execution_count": null,
   "id": "0cd0475c",
   "metadata": {},
   "outputs": [],
   "source": []
  },
  {
   "cell_type": "code",
   "execution_count": null,
   "id": "72bdb04a",
   "metadata": {},
   "outputs": [],
   "source": []
  },
  {
   "cell_type": "code",
   "execution_count": null,
   "id": "34fd3590",
   "metadata": {},
   "outputs": [],
   "source": []
  },
  {
   "cell_type": "markdown",
   "id": "be38ade0",
   "metadata": {},
   "source": [
    "###  <font color = 'red'> Data Visualization </font>"
   ]
  },
  {
   "cell_type": "code",
   "execution_count": null,
   "id": "919874b1",
   "metadata": {},
   "outputs": [],
   "source": []
  },
  {
   "cell_type": "code",
   "execution_count": 4,
   "id": "df6439cf",
   "metadata": {},
   "outputs": [
    {
     "name": "stdout",
     "output_type": "stream",
     "text": [
      "<class 'pandas.core.frame.DataFrame'>\n",
      "RangeIndex: 14398 entries, 0 to 14397\n",
      "Data columns (total 13 columns):\n",
      " #   Column            Non-Null Count  Dtype  \n",
      "---  ------            --------------  -----  \n",
      " 0   Series_reference  14398 non-null  object \n",
      " 1   Period            14398 non-null  float64\n",
      " 2   Data_value        14398 non-null  float64\n",
      " 3   STATUS            14398 non-null  object \n",
      " 4   UNITS             14398 non-null  object \n",
      " 5   MAGNTUDE          14398 non-null  int64  \n",
      " 6   Subject           14398 non-null  object \n",
      " 7   Group             14398 non-null  object \n",
      " 8   Series_title_1    14398 non-null  object \n",
      " 9   Series_title_2    13864 non-null  object \n",
      " 10  Series_title_3    13864 non-null  object \n",
      " 11  Series_title_4    0 non-null      float64\n",
      " 12  Series_title_5    0 non-null      float64\n",
      "dtypes: float64(4), int64(1), object(8)\n",
      "memory usage: 1.4+ MB\n"
     ]
    }
   ],
   "source": [
    "# data frame information\n",
    "df.info()"
   ]
  },
  {
   "cell_type": "code",
   "execution_count": 5,
   "id": "1b347a58",
   "metadata": {},
   "outputs": [
    {
     "data": {
      "text/html": [
       "<div>\n",
       "<style scoped>\n",
       "    .dataframe tbody tr th:only-of-type {\n",
       "        vertical-align: middle;\n",
       "    }\n",
       "\n",
       "    .dataframe tbody tr th {\n",
       "        vertical-align: top;\n",
       "    }\n",
       "\n",
       "    .dataframe thead th {\n",
       "        text-align: right;\n",
       "    }\n",
       "</style>\n",
       "<table border=\"1\" class=\"dataframe\">\n",
       "  <thead>\n",
       "    <tr style=\"text-align: right;\">\n",
       "      <th></th>\n",
       "      <th>Period</th>\n",
       "      <th>Data_value</th>\n",
       "      <th>MAGNTUDE</th>\n",
       "      <th>Series_title_4</th>\n",
       "      <th>Series_title_5</th>\n",
       "    </tr>\n",
       "  </thead>\n",
       "  <tbody>\n",
       "    <tr>\n",
       "      <th>count</th>\n",
       "      <td>14398.000000</td>\n",
       "      <td>14398.000000</td>\n",
       "      <td>14398.000000</td>\n",
       "      <td>0.0</td>\n",
       "      <td>0.0</td>\n",
       "    </tr>\n",
       "    <tr>\n",
       "      <th>mean</th>\n",
       "      <td>2002.162171</td>\n",
       "      <td>1052.156036</td>\n",
       "      <td>0.087929</td>\n",
       "      <td>NaN</td>\n",
       "      <td>NaN</td>\n",
       "    </tr>\n",
       "    <tr>\n",
       "      <th>std</th>\n",
       "      <td>12.111116</td>\n",
       "      <td>3419.995682</td>\n",
       "      <td>0.506036</td>\n",
       "      <td>NaN</td>\n",
       "      <td>NaN</td>\n",
       "    </tr>\n",
       "    <tr>\n",
       "      <th>min</th>\n",
       "      <td>1978.030000</td>\n",
       "      <td>-28.900000</td>\n",
       "      <td>0.000000</td>\n",
       "      <td>NaN</td>\n",
       "      <td>NaN</td>\n",
       "    </tr>\n",
       "    <tr>\n",
       "      <th>25%</th>\n",
       "      <td>1993.030000</td>\n",
       "      <td>1.600000</td>\n",
       "      <td>0.000000</td>\n",
       "      <td>NaN</td>\n",
       "      <td>NaN</td>\n",
       "    </tr>\n",
       "    <tr>\n",
       "      <th>50%</th>\n",
       "      <td>2003.030000</td>\n",
       "      <td>598.500000</td>\n",
       "      <td>0.000000</td>\n",
       "      <td>NaN</td>\n",
       "      <td>NaN</td>\n",
       "    </tr>\n",
       "    <tr>\n",
       "      <th>75%</th>\n",
       "      <td>2012.030000</td>\n",
       "      <td>1298.000000</td>\n",
       "      <td>0.000000</td>\n",
       "      <td>NaN</td>\n",
       "      <td>NaN</td>\n",
       "    </tr>\n",
       "    <tr>\n",
       "      <th>max</th>\n",
       "      <td>2021.030000</td>\n",
       "      <td>64505.000000</td>\n",
       "      <td>3.000000</td>\n",
       "      <td>NaN</td>\n",
       "      <td>NaN</td>\n",
       "    </tr>\n",
       "  </tbody>\n",
       "</table>\n",
       "</div>"
      ],
      "text/plain": [
       "             Period    Data_value      MAGNTUDE  Series_title_4  \\\n",
       "count  14398.000000  14398.000000  14398.000000             0.0   \n",
       "mean    2002.162171   1052.156036      0.087929             NaN   \n",
       "std       12.111116   3419.995682      0.506036             NaN   \n",
       "min     1978.030000    -28.900000      0.000000             NaN   \n",
       "25%     1993.030000      1.600000      0.000000             NaN   \n",
       "50%     2003.030000    598.500000      0.000000             NaN   \n",
       "75%     2012.030000   1298.000000      0.000000             NaN   \n",
       "max     2021.030000  64505.000000      3.000000             NaN   \n",
       "\n",
       "       Series_title_5  \n",
       "count             0.0  \n",
       "mean              NaN  \n",
       "std               NaN  \n",
       "min               NaN  \n",
       "25%               NaN  \n",
       "50%               NaN  \n",
       "75%               NaN  \n",
       "max               NaN  "
      ]
     },
     "execution_count": 5,
     "metadata": {},
     "output_type": "execute_result"
    }
   ],
   "source": [
    " df.describe()# it will give the spread/statistical of all the  numerical columns"
   ]
  },
  {
   "cell_type": "code",
   "execution_count": null,
   "id": "1481a204",
   "metadata": {},
   "outputs": [],
   "source": []
  },
  {
   "cell_type": "code",
   "execution_count": 14,
   "id": "290ce138",
   "metadata": {},
   "outputs": [
    {
     "data": {
      "text/plain": [
       "<seaborn.axisgrid.FacetGrid at 0x2bd2bcda8e0>"
      ]
     },
     "execution_count": 14,
     "metadata": {},
     "output_type": "execute_result"
    },
    {
     "data": {
      "image/png": "[encoded data removed]",
      "text/plain": [
       "<Figure size 360x360 with 1 Axes>"
      ]
     },
     "metadata": {
      "needs_background": "light"
     },
     "output_type": "display_data"
    }
   ],
   "source": [
    "sns.displot(df[\"MAGNTUDE\"])"
   ]
  },
  {
   "cell_type": "code",
   "execution_count": 13,
   "id": "fbf119a1",
   "metadata": {},
   "outputs": [
    {
     "data": {
      "text/plain": [
       "<AxesSubplot:xlabel='MAGNTUDE'>"
      ]
     },
     "execution_count": 13,
     "metadata": {},
     "output_type": "execute_result"
    },
    {
     "data": {
      "image/png": "[encoded data removed]",
      "text/plain": [
       "<Figure size 432x288 with 1 Axes>"
      ]
     },
     "metadata": {
      "needs_background": "light"
     },
     "output_type": "display_data"
    }
   ],
   "source": [
    "sns.boxplot(\"MAGNTUDE\", data=df)   # only numerical attribute "
   ]
  },
  {
   "cell_type": "code",
   "execution_count": 1,
   "id": "9ec15b07",
   "metadata": {},
   "outputs": [
    {
     "ename": "SyntaxError",
     "evalue": "invalid syntax (<ipython-input-1-aaf6cfd35d6f>, line 1)",
     "output_type": "error",
     "traceback": [
      "\u001b[1;36m  File \u001b[1;32m\"<ipython-input-1-aaf6cfd35d6f>\"\u001b[1;36m, line \u001b[1;32m1\u001b[0m\n\u001b[1;33m    maximum and minimum outliers are represneted by :\u001b[0m\n\u001b[1;37m                        ^\u001b[0m\n\u001b[1;31mSyntaxError\u001b[0m\u001b[1;31m:\u001b[0m invalid syntax\n"
     ]
    }
   ],
   "source": [
    " maximum and minimum outliers are represneted by :\n",
    "        IQR = Q3-Q1\n",
    "        lower whiskers = Q1-1.5*IQR\n",
    "        hiher whisker  = Q1 - "
   ]
  },
  {
   "cell_type": "code",
   "execution_count": 16,
   "id": "af74459d",
   "metadata": {},
   "outputs": [
    {
     "data": {
      "text/plain": [
       "<seaborn.axisgrid.FacetGrid at 0x2bd2bccf730>"
      ]
     },
     "execution_count": 16,
     "metadata": {},
     "output_type": "execute_result"
    },
    {
     "data": {
      "image/png": "[encoded data removed]",
      "text/plain": [
       "<Figure size 360x360 with 1 Axes>"
      ]
     },
     "metadata": {
      "needs_background": "light"
     },
     "output_type": "display_data"
    }
   ],
   "source": [
    "sns.displot(np.log1p(df[\"MAGNTUDE\"]))"
   ]
  },
  {
   "cell_type": "code",
   "execution_count": null,
   "id": "38f1adea",
   "metadata": {},
   "outputs": [],
   "source": []
  }
 ],
 "metadata": {
  "kernelspec": {
   "display_name": "Python 3",
   "language": "python",
   "name": "python3"
  },
  "language_info": {
   "codemirror_mode": {
    "name": "ipython",
    "version": 3
   },
   "file_extension": ".py",
   "mimetype": "text/x-python",
   "name": "python",
   "nbconvert_exporter": "python",
   "pygments_lexer": "ipython3",
   "version": "3.8.8"
  }
 },
 "nbformat": 4,
 "nbformat_minor": 5
}
