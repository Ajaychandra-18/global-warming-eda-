{
 "cells": [
  {
   "cell_type": "markdown",
   "id": "de711e74",
   "metadata": {},
   "source": [
    "###\n",
    "<p style=\"text-align:center\">\n",
    "    <a href=\"https://www.lpu.in/\" target=\"_blank\">\n",
    "    <img src=\"https://www.google.com/url?sa=i&url=https%3A%2F%2Fwww.facebook.com%2FLPUDEINDIA%2Fabout%2F&psig=AOvVaw2XLHffvaIAavUc5CvZMLMm&ust=1666158987057000&source=images&cd=vfe&ved=0CA0QjRxqFwoTCNiohoeM6foCFQAAAAAdAAAAABAJ\" width=\"200\"   />\n",
    "    </a>\n",
    "</p>\n",
    "\n",
    "<h1 align=center><font size = 5>LOVELY PROFESSIONAL UNIVERSITY</font></h1>\n"
   ]
  },
  {
   "cell_type": "code",
   "execution_count": 1,
   "id": "b8feb8a2",
   "metadata": {},
   "outputs": [
    {
     "data": {
      "text/html": [
       "<img src=\"download\" width=\"200\" height=\"200\" >\n"
      ],
      "text/plain": [
       "<IPython.core.display.HTML object>"
      ]
     },
     "metadata": {},
     "output_type": "display_data"
    }
   ],
   "source": [
    "%%html\n",
    "<img src=\"download\" width=\"200\" height=\"200\" >"
   ]
  },
  {
   "cell_type": "code",
   "execution_count": null,
   "id": "6106e086",
   "metadata": {},
   "outputs": [],
   "source": []
  },
  {
   "cell_type": "markdown",
   "id": "55f25603",
   "metadata": {},
   "source": [
    "### <font color = \"red\"> EDA FINAL PROJECT </font>"
   ]
  },
  {
   "cell_type": "code",
   "execution_count": null,
   "id": "b1876182",
   "metadata": {},
   "outputs": [],
   "source": []
  },
  {
   "cell_type": "code",
   "execution_count": null,
   "id": "8b6861d4",
   "metadata": {},
   "outputs": [],
   "source": []
  },
  {
   "cell_type": "markdown",
   "id": "a812fabd",
   "metadata": {},
   "source": [
    "### IMPORTING LIBRARIES "
   ]
  },
  {
   "cell_type": "code",
   "execution_count": 2,
   "id": "c070522b",
   "metadata": {},
   "outputs": [],
   "source": [
    "import warnings\n",
    "warnings.filterwarnings(\"ignore\") "
   ]
  },
  {
   "cell_type": "code",
   "execution_count": 3,
   "id": "c11d6b99",
   "metadata": {},
   "outputs": [],
   "source": [
    "import pandas as pd\n",
    "import numpy as np\n",
    "import seaborn as sns\n",
    "import matplotlib.pyplot as plt"
   ]
  },
  {
   "cell_type": "markdown",
   "id": "3966730a",
   "metadata": {},
   "source": [
    "####  <font color = \"blue\"> IMPORTING PANDAS </font>\n",
    "- pandas is an open source, BSD-licensed library providing high-performance, easy-to-use data structures and data analysis tools for the Python programming language."
   ]
  },
  {
   "cell_type": "markdown",
   "id": "65816987",
   "metadata": {},
   "source": [
    "####   <font color = \"blue\"> IMPORTING NUMPY </font>\n",
    "- NumPy is the fundamental package for scientific computing in Python. It is a Python library that provides a multidimensional array object, various derived objects (such as masked arrays and matrices), and an assortment of routines for fast operations on arrays, including mathematical, logical, shape manipulation, sorting, selecting, I/O, discrete Fourier transforms, basic linear algebra, basic statistical operations, random simulation and much more."
   ]
  },
  {
   "cell_type": "markdown",
   "id": "f4790174",
   "metadata": {},
   "source": [
    "####  <font color = \"blue\"> IMPORTING  Seaborn </font>\n",
    "- Seaborn is a library for making statistical graphics in Python. It builds on top of matplotlib and integrates closely with pandas data structures."
   ]
  },
  {
   "cell_type": "markdown",
   "id": "23f79c81",
   "metadata": {},
   "source": [
    "####  <font color = \"blue\"> IMPORTING Matplotlib </font>\n",
    "- Matplotlib is a comprehensive library for creating static, animated, and interactive visualizations in Python. Matplotlib makes easy things easy and hard things possible."
   ]
  },
  {
   "cell_type": "markdown",
   "id": "98d85640",
   "metadata": {},
   "source": [
    "####  <font color = \"#0000FF\"> IMPORTING Warnings </font>\n",
    "- Warning messages are typically issued in situations where it is useful to alert the user of some condition in a program, where that condition (normally) doesn’t warrant raising an exception and terminating the program. For example, one might want to issue a warning when a program uses an obsolete module."
   ]
  },
  {
   "cell_type": "markdown",
   "id": "efffec20",
   "metadata": {},
   "source": [
    "### Importing a DataSet "
   ]
  },
  {
   "cell_type": "code",
   "execution_count": 4,
   "id": "f0c02e72",
   "metadata": {},
   "outputs": [],
   "source": [
    "# Reading the csv file "
   ]
  },
  {
   "cell_type": "code",
   "execution_count": 5,
   "id": "0868cf38",
   "metadata": {},
   "outputs": [],
   "source": [
    "df = pd.read_csv(\"greenhouse-gas-emissions-industry-and-household-year-ended-2020.csv\")"
   ]
  },
  {
   "cell_type": "code",
   "execution_count": 6,
   "id": "da648a8e",
   "metadata": {},
   "outputs": [],
   "source": [
    "# To Read a comma Seperated value we write pd.read_csv"
   ]
  },
  {
   "cell_type": "markdown",
   "id": "268bef48",
   "metadata": {},
   "source": [
    "#### DataFrame - Head() function"
   ]
  },
  {
   "cell_type": "code",
   "execution_count": 7,
   "id": "7460618f",
   "metadata": {},
   "outputs": [],
   "source": [
    "# df.head(n) to show  'n' Rows of data frame  \n",
    "# By default it will show first five rows "
   ]
  },
  {
   "cell_type": "code",
   "execution_count": 8,
   "id": "150602ec",
   "metadata": {},
   "outputs": [
    {
     "data": {
      "text/html": [
       "<div>\n",
       "<style scoped>\n",
       "    .dataframe tbody tr th:only-of-type {\n",
       "        vertical-align: middle;\n",
       "    }\n",
       "\n",
       "    .dataframe tbody tr th {\n",
       "        vertical-align: top;\n",
       "    }\n",
       "\n",
       "    .dataframe thead th {\n",
       "        text-align: right;\n",
       "    }\n",
       "</style>\n",
       "<table border=\"1\" class=\"dataframe\">\n",
       "  <thead>\n",
       "    <tr style=\"text-align: right;\">\n",
       "      <th></th>\n",
       "      <th>year</th>\n",
       "      <th>anzsic</th>\n",
       "      <th>nzsioc</th>\n",
       "      <th>anzsic_descriptor</th>\n",
       "      <th>category</th>\n",
       "      <th>variable</th>\n",
       "      <th>units</th>\n",
       "      <th>magnitude</th>\n",
       "      <th>source</th>\n",
       "      <th>data_value</th>\n",
       "    </tr>\n",
       "  </thead>\n",
       "  <tbody>\n",
       "    <tr>\n",
       "      <th>0</th>\n",
       "      <td>2007</td>\n",
       "      <td>AA1</td>\n",
       "      <td>NaN</td>\n",
       "      <td>Agriculture</td>\n",
       "      <td>Total</td>\n",
       "      <td>Carbon dioxide</td>\n",
       "      <td>Kilotonnes</td>\n",
       "      <td>Carbon dioxide equivalents</td>\n",
       "      <td>Environmental accounts</td>\n",
       "      <td>2664.99</td>\n",
       "    </tr>\n",
       "    <tr>\n",
       "      <th>1</th>\n",
       "      <td>2007</td>\n",
       "      <td>AA1</td>\n",
       "      <td>NaN</td>\n",
       "      <td>Agriculture</td>\n",
       "      <td>Total</td>\n",
       "      <td>Carbon dioxide equivalents</td>\n",
       "      <td>Kilotonnes</td>\n",
       "      <td>Carbon dioxide equivalents</td>\n",
       "      <td>Environmental accounts</td>\n",
       "      <td>40873.37</td>\n",
       "    </tr>\n",
       "    <tr>\n",
       "      <th>2</th>\n",
       "      <td>2007</td>\n",
       "      <td>AA1</td>\n",
       "      <td>NaN</td>\n",
       "      <td>Agriculture</td>\n",
       "      <td>Total</td>\n",
       "      <td>Methane</td>\n",
       "      <td>Kilotonnes</td>\n",
       "      <td>Carbon dioxide equivalents</td>\n",
       "      <td>Environmental accounts</td>\n",
       "      <td>31164.26</td>\n",
       "    </tr>\n",
       "  </tbody>\n",
       "</table>\n",
       "</div>"
      ],
      "text/plain": [
       "   year anzsic nzsioc anzsic_descriptor category                    variable  \\\n",
       "0  2007    AA1    NaN       Agriculture    Total              Carbon dioxide   \n",
       "1  2007    AA1    NaN       Agriculture    Total  Carbon dioxide equivalents   \n",
       "2  2007    AA1    NaN       Agriculture    Total                     Methane   \n",
       "\n",
       "        units                   magnitude                  source  data_value  \n",
       "0  Kilotonnes  Carbon dioxide equivalents  Environmental accounts     2664.99  \n",
       "1  Kilotonnes  Carbon dioxide equivalents  Environmental accounts    40873.37  \n",
       "2  Kilotonnes  Carbon dioxide equivalents  Environmental accounts    31164.26  "
      ]
     },
     "execution_count": 8,
     "metadata": {},
     "output_type": "execute_result"
    }
   ],
   "source": [
    "df.head(3)"
   ]
  },
  {
   "cell_type": "markdown",
   "id": "ddbf42d0",
   "metadata": {},
   "source": [
    "#### DataFrame - Tail() function "
   ]
  },
  {
   "cell_type": "code",
   "execution_count": 9,
   "id": "c2cdd31d",
   "metadata": {},
   "outputs": [],
   "source": [
    "# df.tail(n) to show the 'n' Rows of data frame \n",
    "# By default it will show last five rows "
   ]
  },
  {
   "cell_type": "code",
   "execution_count": 10,
   "id": "6f0f3ab4",
   "metadata": {},
   "outputs": [
    {
     "data": {
      "text/html": [
       "<div>\n",
       "<style scoped>\n",
       "    .dataframe tbody tr th:only-of-type {\n",
       "        vertical-align: middle;\n",
       "    }\n",
       "\n",
       "    .dataframe tbody tr th {\n",
       "        vertical-align: top;\n",
       "    }\n",
       "\n",
       "    .dataframe thead th {\n",
       "        text-align: right;\n",
       "    }\n",
       "</style>\n",
       "<table border=\"1\" class=\"dataframe\">\n",
       "  <thead>\n",
       "    <tr style=\"text-align: right;\">\n",
       "      <th></th>\n",
       "      <th>year</th>\n",
       "      <th>anzsic</th>\n",
       "      <th>nzsioc</th>\n",
       "      <th>anzsic_descriptor</th>\n",
       "      <th>category</th>\n",
       "      <th>variable</th>\n",
       "      <th>units</th>\n",
       "      <th>magnitude</th>\n",
       "      <th>source</th>\n",
       "      <th>data_value</th>\n",
       "    </tr>\n",
       "  </thead>\n",
       "  <tbody>\n",
       "    <tr>\n",
       "      <th>20634</th>\n",
       "      <td>2020</td>\n",
       "      <td>ZZZ</td>\n",
       "      <td>NaN</td>\n",
       "      <td>Total</td>\n",
       "      <td>Total</td>\n",
       "      <td>Hydrofluorocarbons</td>\n",
       "      <td>Tonnes</td>\n",
       "      <td>Carbon dioxide equivalents</td>\n",
       "      <td>Environmental accounts</td>\n",
       "      <td>1478799.16</td>\n",
       "    </tr>\n",
       "    <tr>\n",
       "      <th>20635</th>\n",
       "      <td>2020</td>\n",
       "      <td>ZZZ</td>\n",
       "      <td>NaN</td>\n",
       "      <td>Total</td>\n",
       "      <td>Total</td>\n",
       "      <td>Sulphur hexafluoride</td>\n",
       "      <td>Tonnes</td>\n",
       "      <td>Carbon dioxide equivalents</td>\n",
       "      <td>Environmental accounts</td>\n",
       "      <td>16685.42</td>\n",
       "    </tr>\n",
       "    <tr>\n",
       "      <th>20636</th>\n",
       "      <td>2020</td>\n",
       "      <td>ZZZ</td>\n",
       "      <td>NaN</td>\n",
       "      <td>Total</td>\n",
       "      <td>Total</td>\n",
       "      <td>Perfluorocarbons</td>\n",
       "      <td>Tonnes</td>\n",
       "      <td>Carbon dioxide equivalents</td>\n",
       "      <td>Environmental accounts</td>\n",
       "      <td>87915.68</td>\n",
       "    </tr>\n",
       "    <tr>\n",
       "      <th>20637</th>\n",
       "      <td>2020</td>\n",
       "      <td>ZZZ</td>\n",
       "      <td>NaN</td>\n",
       "      <td>Total</td>\n",
       "      <td>Total</td>\n",
       "      <td>Fluorinated gases</td>\n",
       "      <td>Tonnes</td>\n",
       "      <td>Carbon dioxide equivalents</td>\n",
       "      <td>Environmental accounts</td>\n",
       "      <td>1583400.26</td>\n",
       "    </tr>\n",
       "  </tbody>\n",
       "</table>\n",
       "</div>"
      ],
      "text/plain": [
       "       year anzsic nzsioc anzsic_descriptor category              variable  \\\n",
       "20634  2020    ZZZ    NaN             Total    Total    Hydrofluorocarbons   \n",
       "20635  2020    ZZZ    NaN             Total    Total  Sulphur hexafluoride   \n",
       "20636  2020    ZZZ    NaN             Total    Total      Perfluorocarbons   \n",
       "20637  2020    ZZZ    NaN             Total    Total     Fluorinated gases   \n",
       "\n",
       "        units                   magnitude                  source  data_value  \n",
       "20634  Tonnes  Carbon dioxide equivalents  Environmental accounts  1478799.16  \n",
       "20635  Tonnes  Carbon dioxide equivalents  Environmental accounts    16685.42  \n",
       "20636  Tonnes  Carbon dioxide equivalents  Environmental accounts    87915.68  \n",
       "20637  Tonnes  Carbon dioxide equivalents  Environmental accounts  1583400.26  "
      ]
     },
     "execution_count": 10,
     "metadata": {},
     "output_type": "execute_result"
    }
   ],
   "source": [
    "df.tail(4)"
   ]
  },
  {
   "cell_type": "markdown",
   "id": "d2996ead",
   "metadata": {},
   "source": [
    "#### DataFrame -Info() function"
   ]
  },
  {
   "cell_type": "code",
   "execution_count": 11,
   "id": "1947a395",
   "metadata": {},
   "outputs": [],
   "source": [
    "# Provides a concise Summary of your dataframe"
   ]
  },
  {
   "cell_type": "code",
   "execution_count": 12,
   "id": "04e52ef6",
   "metadata": {},
   "outputs": [
    {
     "name": "stdout",
     "output_type": "stream",
     "text": [
      "<class 'pandas.core.frame.DataFrame'>\n",
      "RangeIndex: 20638 entries, 0 to 20637\n",
      "Data columns (total 10 columns):\n",
      " #   Column             Non-Null Count  Dtype  \n",
      "---  ------             --------------  -----  \n",
      " 0   year               20638 non-null  int64  \n",
      " 1   anzsic             20638 non-null  object \n",
      " 2   nzsioc             6440 non-null   object \n",
      " 3   anzsic_descriptor  20638 non-null  object \n",
      " 4   category           20638 non-null  object \n",
      " 5   variable           20638 non-null  object \n",
      " 6   units              20638 non-null  object \n",
      " 7   magnitude          20638 non-null  object \n",
      " 8   source             20638 non-null  object \n",
      " 9   data_value         20638 non-null  float64\n",
      "dtypes: float64(1), int64(1), object(8)\n",
      "memory usage: 1.6+ MB\n"
     ]
    }
   ],
   "source": [
    "df.info()"
   ]
  },
  {
   "cell_type": "markdown",
   "id": "17ee23f0",
   "metadata": {},
   "source": [
    "     # From the info() method we get the no.of columns , datatypes ( year attribute is int64 , data_value attribute is float64 , category attribute is object) any Null counts , memory usage"
   ]
  },
  {
   "cell_type": "markdown",
   "id": "ebc9b5f4",
   "metadata": {},
   "source": [
    "#### DataFrame -Describe() function"
   ]
  },
  {
   "cell_type": "code",
   "execution_count": 13,
   "id": "44b766e2",
   "metadata": {},
   "outputs": [],
   "source": [
    "# Returns a Statistical Summary"
   ]
  },
  {
   "cell_type": "code",
   "execution_count": 14,
   "id": "4d253ee5",
   "metadata": {},
   "outputs": [
    {
     "data": {
      "text/html": [
       "<div>\n",
       "<style scoped>\n",
       "    .dataframe tbody tr th:only-of-type {\n",
       "        vertical-align: middle;\n",
       "    }\n",
       "\n",
       "    .dataframe tbody tr th {\n",
       "        vertical-align: top;\n",
       "    }\n",
       "\n",
       "    .dataframe thead th {\n",
       "        text-align: right;\n",
       "    }\n",
       "</style>\n",
       "<table border=\"1\" class=\"dataframe\">\n",
       "  <thead>\n",
       "    <tr style=\"text-align: right;\">\n",
       "      <th></th>\n",
       "      <th>year</th>\n",
       "      <th>data_value</th>\n",
       "    </tr>\n",
       "  </thead>\n",
       "  <tbody>\n",
       "    <tr>\n",
       "      <th>count</th>\n",
       "      <td>20638.000000</td>\n",
       "      <td>2.063800e+04</td>\n",
       "    </tr>\n",
       "    <tr>\n",
       "      <th>mean</th>\n",
       "      <td>2013.496124</td>\n",
       "      <td>6.043924e+05</td>\n",
       "    </tr>\n",
       "    <tr>\n",
       "      <th>std</th>\n",
       "      <td>4.032186</td>\n",
       "      <td>4.366881e+06</td>\n",
       "    </tr>\n",
       "    <tr>\n",
       "      <th>min</th>\n",
       "      <td>2007.000000</td>\n",
       "      <td>0.000000e+00</td>\n",
       "    </tr>\n",
       "    <tr>\n",
       "      <th>25%</th>\n",
       "      <td>2010.000000</td>\n",
       "      <td>4.962250e+01</td>\n",
       "    </tr>\n",
       "    <tr>\n",
       "      <th>50%</th>\n",
       "      <td>2013.000000</td>\n",
       "      <td>9.280000e+02</td>\n",
       "    </tr>\n",
       "    <tr>\n",
       "      <th>75%</th>\n",
       "      <td>2017.000000</td>\n",
       "      <td>6.833927e+03</td>\n",
       "    </tr>\n",
       "    <tr>\n",
       "      <th>max</th>\n",
       "      <td>2020.000000</td>\n",
       "      <td>8.442973e+07</td>\n",
       "    </tr>\n",
       "  </tbody>\n",
       "</table>\n",
       "</div>"
      ],
      "text/plain": [
       "               year    data_value\n",
       "count  20638.000000  2.063800e+04\n",
       "mean    2013.496124  6.043924e+05\n",
       "std        4.032186  4.366881e+06\n",
       "min     2007.000000  0.000000e+00\n",
       "25%     2010.000000  4.962250e+01\n",
       "50%     2013.000000  9.280000e+02\n",
       "75%     2017.000000  6.833927e+03\n",
       "max     2020.000000  8.442973e+07"
      ]
     },
     "execution_count": 14,
     "metadata": {},
     "output_type": "execute_result"
    }
   ],
   "source": [
    "df.describe()"
   ]
  },
  {
   "cell_type": "code",
   "execution_count": 15,
   "id": "6db15719",
   "metadata": {},
   "outputs": [],
   "source": [
    "# By default describe function skips Rows & Columns that do not contain numbers \n",
    "# df.describe(include = 'all')  - Provides full Summary Statistics"
   ]
  },
  {
   "cell_type": "markdown",
   "id": "69a69cb2",
   "metadata": {},
   "source": [
    "#### DataFrame -IsNull() function"
   ]
  },
  {
   "cell_type": "markdown",
   "id": "16e092ca",
   "metadata": {},
   "source": [
    "# Detect missing values.\n",
    "\n",
    "Return a boolean same-sized object indicating if the values are NA. NA values,\n",
    "such as None or numpy.NaN, gets mapped to True values.Everything else gets mapped to False values.Characters such as empty strings '' or numpy.inf are not considered NA values (unless you set pandas.options.mode.use_inf_as_na = True)."
   ]
  },
  {
   "cell_type": "code",
   "execution_count": 16,
   "id": "a4716979",
   "metadata": {},
   "outputs": [
    {
     "data": {
      "text/html": [
       "<div>\n",
       "<style scoped>\n",
       "    .dataframe tbody tr th:only-of-type {\n",
       "        vertical-align: middle;\n",
       "    }\n",
       "\n",
       "    .dataframe tbody tr th {\n",
       "        vertical-align: top;\n",
       "    }\n",
       "\n",
       "    .dataframe thead th {\n",
       "        text-align: right;\n",
       "    }\n",
       "</style>\n",
       "<table border=\"1\" class=\"dataframe\">\n",
       "  <thead>\n",
       "    <tr style=\"text-align: right;\">\n",
       "      <th></th>\n",
       "      <th>year</th>\n",
       "      <th>anzsic</th>\n",
       "      <th>nzsioc</th>\n",
       "      <th>anzsic_descriptor</th>\n",
       "      <th>category</th>\n",
       "      <th>variable</th>\n",
       "      <th>units</th>\n",
       "      <th>magnitude</th>\n",
       "      <th>source</th>\n",
       "      <th>data_value</th>\n",
       "    </tr>\n",
       "  </thead>\n",
       "  <tbody>\n",
       "    <tr>\n",
       "      <th>0</th>\n",
       "      <td>False</td>\n",
       "      <td>False</td>\n",
       "      <td>True</td>\n",
       "      <td>False</td>\n",
       "      <td>False</td>\n",
       "      <td>False</td>\n",
       "      <td>False</td>\n",
       "      <td>False</td>\n",
       "      <td>False</td>\n",
       "      <td>False</td>\n",
       "    </tr>\n",
       "    <tr>\n",
       "      <th>1</th>\n",
       "      <td>False</td>\n",
       "      <td>False</td>\n",
       "      <td>True</td>\n",
       "      <td>False</td>\n",
       "      <td>False</td>\n",
       "      <td>False</td>\n",
       "      <td>False</td>\n",
       "      <td>False</td>\n",
       "      <td>False</td>\n",
       "      <td>False</td>\n",
       "    </tr>\n",
       "    <tr>\n",
       "      <th>2</th>\n",
       "      <td>False</td>\n",
       "      <td>False</td>\n",
       "      <td>True</td>\n",
       "      <td>False</td>\n",
       "      <td>False</td>\n",
       "      <td>False</td>\n",
       "      <td>False</td>\n",
       "      <td>False</td>\n",
       "      <td>False</td>\n",
       "      <td>False</td>\n",
       "    </tr>\n",
       "    <tr>\n",
       "      <th>3</th>\n",
       "      <td>False</td>\n",
       "      <td>False</td>\n",
       "      <td>True</td>\n",
       "      <td>False</td>\n",
       "      <td>False</td>\n",
       "      <td>False</td>\n",
       "      <td>False</td>\n",
       "      <td>False</td>\n",
       "      <td>False</td>\n",
       "      <td>False</td>\n",
       "    </tr>\n",
       "    <tr>\n",
       "      <th>4</th>\n",
       "      <td>False</td>\n",
       "      <td>False</td>\n",
       "      <td>True</td>\n",
       "      <td>False</td>\n",
       "      <td>False</td>\n",
       "      <td>False</td>\n",
       "      <td>False</td>\n",
       "      <td>False</td>\n",
       "      <td>False</td>\n",
       "      <td>False</td>\n",
       "    </tr>\n",
       "    <tr>\n",
       "      <th>...</th>\n",
       "      <td>...</td>\n",
       "      <td>...</td>\n",
       "      <td>...</td>\n",
       "      <td>...</td>\n",
       "      <td>...</td>\n",
       "      <td>...</td>\n",
       "      <td>...</td>\n",
       "      <td>...</td>\n",
       "      <td>...</td>\n",
       "      <td>...</td>\n",
       "    </tr>\n",
       "    <tr>\n",
       "      <th>20633</th>\n",
       "      <td>False</td>\n",
       "      <td>False</td>\n",
       "      <td>True</td>\n",
       "      <td>False</td>\n",
       "      <td>False</td>\n",
       "      <td>False</td>\n",
       "      <td>False</td>\n",
       "      <td>False</td>\n",
       "      <td>False</td>\n",
       "      <td>False</td>\n",
       "    </tr>\n",
       "    <tr>\n",
       "      <th>20634</th>\n",
       "      <td>False</td>\n",
       "      <td>False</td>\n",
       "      <td>True</td>\n",
       "      <td>False</td>\n",
       "      <td>False</td>\n",
       "      <td>False</td>\n",
       "      <td>False</td>\n",
       "      <td>False</td>\n",
       "      <td>False</td>\n",
       "      <td>False</td>\n",
       "    </tr>\n",
       "    <tr>\n",
       "      <th>20635</th>\n",
       "      <td>False</td>\n",
       "      <td>False</td>\n",
       "      <td>True</td>\n",
       "      <td>False</td>\n",
       "      <td>False</td>\n",
       "      <td>False</td>\n",
       "      <td>False</td>\n",
       "      <td>False</td>\n",
       "      <td>False</td>\n",
       "      <td>False</td>\n",
       "    </tr>\n",
       "    <tr>\n",
       "      <th>20636</th>\n",
       "      <td>False</td>\n",
       "      <td>False</td>\n",
       "      <td>True</td>\n",
       "      <td>False</td>\n",
       "      <td>False</td>\n",
       "      <td>False</td>\n",
       "      <td>False</td>\n",
       "      <td>False</td>\n",
       "      <td>False</td>\n",
       "      <td>False</td>\n",
       "    </tr>\n",
       "    <tr>\n",
       "      <th>20637</th>\n",
       "      <td>False</td>\n",
       "      <td>False</td>\n",
       "      <td>True</td>\n",
       "      <td>False</td>\n",
       "      <td>False</td>\n",
       "      <td>False</td>\n",
       "      <td>False</td>\n",
       "      <td>False</td>\n",
       "      <td>False</td>\n",
       "      <td>False</td>\n",
       "    </tr>\n",
       "  </tbody>\n",
       "</table>\n",
       "<p>20638 rows × 10 columns</p>\n",
       "</div>"
      ],
      "text/plain": [
       "        year  anzsic  nzsioc  anzsic_descriptor  category  variable  units  \\\n",
       "0      False   False    True              False     False     False  False   \n",
       "1      False   False    True              False     False     False  False   \n",
       "2      False   False    True              False     False     False  False   \n",
       "3      False   False    True              False     False     False  False   \n",
       "4      False   False    True              False     False     False  False   \n",
       "...      ...     ...     ...                ...       ...       ...    ...   \n",
       "20633  False   False    True              False     False     False  False   \n",
       "20634  False   False    True              False     False     False  False   \n",
       "20635  False   False    True              False     False     False  False   \n",
       "20636  False   False    True              False     False     False  False   \n",
       "20637  False   False    True              False     False     False  False   \n",
       "\n",
       "       magnitude  source  data_value  \n",
       "0          False   False       False  \n",
       "1          False   False       False  \n",
       "2          False   False       False  \n",
       "3          False   False       False  \n",
       "4          False   False       False  \n",
       "...          ...     ...         ...  \n",
       "20633      False   False       False  \n",
       "20634      False   False       False  \n",
       "20635      False   False       False  \n",
       "20636      False   False       False  \n",
       "20637      False   False       False  \n",
       "\n",
       "[20638 rows x 10 columns]"
      ]
     },
     "execution_count": 16,
     "metadata": {},
     "output_type": "execute_result"
    }
   ],
   "source": [
    "df.isnull()"
   ]
  },
  {
   "cell_type": "markdown",
   "id": "16e636e2",
   "metadata": {},
   "source": [
    "#### DataFrame -Shape() function"
   ]
  },
  {
   "cell_type": "code",
   "execution_count": 17,
   "id": "11a5c926",
   "metadata": {},
   "outputs": [
    {
     "data": {
      "text/plain": [
       "(20638, 10)"
      ]
     },
     "execution_count": 17,
     "metadata": {},
     "output_type": "execute_result"
    }
   ],
   "source": [
    "df.shape"
   ]
  },
  {
   "cell_type": "code",
   "execution_count": 18,
   "id": "ec75c179",
   "metadata": {},
   "outputs": [],
   "source": [
    "# Returns (Rows , Columns)"
   ]
  },
  {
   "cell_type": "markdown",
   "id": "918d03db",
   "metadata": {},
   "source": [
    "#### DataFrame -Size() function"
   ]
  },
  {
   "cell_type": "code",
   "execution_count": 19,
   "id": "bd7547d0",
   "metadata": {},
   "outputs": [
    {
     "data": {
      "text/plain": [
       "206380"
      ]
     },
     "execution_count": 19,
     "metadata": {},
     "output_type": "execute_result"
    }
   ],
   "source": [
    "df.size"
   ]
  },
  {
   "cell_type": "code",
   "execution_count": 20,
   "id": "d32b2526",
   "metadata": {},
   "outputs": [],
   "source": [
    "# The size property returns the number of elements in the DataFrame.\n",
    "# The number of elements is the number of rows * the number of columns."
   ]
  },
  {
   "cell_type": "markdown",
   "id": "a6cc2223",
   "metadata": {},
   "source": [
    "###  <font color='red'> Removing NAN Values </font>"
   ]
  },
  {
   "cell_type": "code",
   "execution_count": 21,
   "id": "d8f1a18f",
   "metadata": {},
   "outputs": [],
   "source": [
    "# To Remove NAN Values we need to know how many NAN Value are present in each attributes \n",
    "# Therfore we have a method isnull.sum()"
   ]
  },
  {
   "cell_type": "code",
   "execution_count": 22,
   "id": "d23fd41d",
   "metadata": {},
   "outputs": [
    {
     "data": {
      "text/plain": [
       "year                     0\n",
       "anzsic                   0\n",
       "nzsioc               14198\n",
       "anzsic_descriptor        0\n",
       "category                 0\n",
       "variable                 0\n",
       "units                    0\n",
       "magnitude                0\n",
       "source                   0\n",
       "data_value               0\n",
       "dtype: int64"
      ]
     },
     "execution_count": 22,
     "metadata": {},
     "output_type": "execute_result"
    }
   ],
   "source": [
    "df.isnull().sum()"
   ]
  },
  {
   "cell_type": "code",
   "execution_count": 23,
   "id": "31bf00af",
   "metadata": {},
   "outputs": [],
   "source": [
    "# df.isnull().sum() Returns the Sum of the NAN Values in each attributes "
   ]
  },
  {
   "cell_type": "code",
   "execution_count": 24,
   "id": "261c4103",
   "metadata": {},
   "outputs": [],
   "source": [
    "# Since the 'nzsioc' attributes have 14198 NAN Values it is better to drop the attribute "
   ]
  },
  {
   "cell_type": "code",
   "execution_count": 25,
   "id": "be898ceb",
   "metadata": {},
   "outputs": [],
   "source": [
    "df = df.drop(['nzsioc'] , axis = 1)"
   ]
  },
  {
   "cell_type": "code",
   "execution_count": 26,
   "id": "d77451fa",
   "metadata": {},
   "outputs": [],
   "source": [
    "# The Attribute 'nzsioc' is dropped "
   ]
  },
  {
   "cell_type": "code",
   "execution_count": 27,
   "id": "ca631236",
   "metadata": {},
   "outputs": [
    {
     "data": {
      "text/plain": [
       "Index(['year', 'anzsic', 'anzsic_descriptor', 'category', 'variable', 'units',\n",
       "       'magnitude', 'source', 'data_value'],\n",
       "      dtype='object')"
      ]
     },
     "execution_count": 27,
     "metadata": {},
     "output_type": "execute_result"
    }
   ],
   "source": [
    "df.columns      # df.columns() Returns the columns name"
   ]
  },
  {
   "cell_type": "code",
   "execution_count": 28,
   "id": "9993f45a",
   "metadata": {},
   "outputs": [],
   "source": [
    "# From the drop() method we removed the Attribute 'nzsioc' which contains null values in the dataset  "
   ]
  },
  {
   "cell_type": "markdown",
   "id": "648c5b1e",
   "metadata": {},
   "source": [
    "## <font color='red'> Handling Outliers </font>"
   ]
  },
  {
   "cell_type": "markdown",
   "id": "85d3bab9",
   "metadata": {},
   "source": [
    " An outlier is something separate or different from the crowd. Outliers can be a result of a mistake during data collection or it can be just an indication of variance in your data. Some of the methods for detecting and handling outliers is : Box Plot."
   ]
  },
  {
   "cell_type": "code",
   "execution_count": 29,
   "id": "9a12241c",
   "metadata": {},
   "outputs": [
    {
     "data": {
      "text/html": [
       "<div>\n",
       "<style scoped>\n",
       "    .dataframe tbody tr th:only-of-type {\n",
       "        vertical-align: middle;\n",
       "    }\n",
       "\n",
       "    .dataframe tbody tr th {\n",
       "        vertical-align: top;\n",
       "    }\n",
       "\n",
       "    .dataframe thead th {\n",
       "        text-align: right;\n",
       "    }\n",
       "</style>\n",
       "<table border=\"1\" class=\"dataframe\">\n",
       "  <thead>\n",
       "    <tr style=\"text-align: right;\">\n",
       "      <th></th>\n",
       "      <th>year</th>\n",
       "      <th>anzsic</th>\n",
       "      <th>anzsic_descriptor</th>\n",
       "      <th>category</th>\n",
       "      <th>variable</th>\n",
       "      <th>units</th>\n",
       "      <th>magnitude</th>\n",
       "      <th>source</th>\n",
       "      <th>data_value</th>\n",
       "    </tr>\n",
       "  </thead>\n",
       "  <tbody>\n",
       "    <tr>\n",
       "      <th>0</th>\n",
       "      <td>2007</td>\n",
       "      <td>AA1</td>\n",
       "      <td>Agriculture</td>\n",
       "      <td>Total</td>\n",
       "      <td>Carbon dioxide</td>\n",
       "      <td>Kilotonnes</td>\n",
       "      <td>Carbon dioxide equivalents</td>\n",
       "      <td>Environmental accounts</td>\n",
       "      <td>2664.99</td>\n",
       "    </tr>\n",
       "  </tbody>\n",
       "</table>\n",
       "</div>"
      ],
      "text/plain": [
       "   year anzsic anzsic_descriptor category        variable       units  \\\n",
       "0  2007    AA1       Agriculture    Total  Carbon dioxide  Kilotonnes   \n",
       "\n",
       "                    magnitude                  source  data_value  \n",
       "0  Carbon dioxide equivalents  Environmental accounts     2664.99  "
      ]
     },
     "execution_count": 29,
     "metadata": {},
     "output_type": "execute_result"
    }
   ],
   "source": [
    "# From the above \n",
    "df.head(1)"
   ]
  },
  {
   "cell_type": "code",
   "execution_count": 30,
   "id": "f979c5e4",
   "metadata": {},
   "outputs": [],
   "source": [
    "df['data_value'] = df['data_value'].astype('int')"
   ]
  },
  {
   "cell_type": "code",
   "execution_count": 31,
   "id": "98a9516c",
   "metadata": {},
   "outputs": [
    {
     "data": {
      "text/html": [
       "<div>\n",
       "<style scoped>\n",
       "    .dataframe tbody tr th:only-of-type {\n",
       "        vertical-align: middle;\n",
       "    }\n",
       "\n",
       "    .dataframe tbody tr th {\n",
       "        vertical-align: top;\n",
       "    }\n",
       "\n",
       "    .dataframe thead th {\n",
       "        text-align: right;\n",
       "    }\n",
       "</style>\n",
       "<table border=\"1\" class=\"dataframe\">\n",
       "  <thead>\n",
       "    <tr style=\"text-align: right;\">\n",
       "      <th></th>\n",
       "      <th>year</th>\n",
       "      <th>anzsic</th>\n",
       "      <th>anzsic_descriptor</th>\n",
       "      <th>category</th>\n",
       "      <th>variable</th>\n",
       "      <th>units</th>\n",
       "      <th>magnitude</th>\n",
       "      <th>source</th>\n",
       "      <th>data_value</th>\n",
       "    </tr>\n",
       "  </thead>\n",
       "  <tbody>\n",
       "    <tr>\n",
       "      <th>0</th>\n",
       "      <td>2007</td>\n",
       "      <td>AA1</td>\n",
       "      <td>Agriculture</td>\n",
       "      <td>Total</td>\n",
       "      <td>Carbon dioxide</td>\n",
       "      <td>Kilotonnes</td>\n",
       "      <td>Carbon dioxide equivalents</td>\n",
       "      <td>Environmental accounts</td>\n",
       "      <td>2664</td>\n",
       "    </tr>\n",
       "  </tbody>\n",
       "</table>\n",
       "</div>"
      ],
      "text/plain": [
       "   year anzsic anzsic_descriptor category        variable       units  \\\n",
       "0  2007    AA1       Agriculture    Total  Carbon dioxide  Kilotonnes   \n",
       "\n",
       "                    magnitude                  source  data_value  \n",
       "0  Carbon dioxide equivalents  Environmental accounts        2664  "
      ]
     },
     "execution_count": 31,
     "metadata": {},
     "output_type": "execute_result"
    }
   ],
   "source": [
    "df.head(1)"
   ]
  },
  {
   "cell_type": "markdown",
   "id": "85b988e5",
   "metadata": {},
   "source": [
    "### <font color ='red'> Box plot </font>"
   ]
  },
  {
   "cell_type": "code",
   "execution_count": 32,
   "id": "27294171",
   "metadata": {},
   "outputs": [
    {
     "data": {
      "text/plain": [
       "<AxesSubplot:xlabel='year'>"
      ]
     },
     "execution_count": 32,
     "metadata": {},
     "output_type": "execute_result"
    },
    {
     "data": {
      "image/png": "[encoded data removed]",
      "text/plain": [
       "<Figure size 432x288 with 1 Axes>"
      ]
     },
     "metadata": {
      "needs_background": "light"
     },
     "output_type": "display_data"
    }
   ],
   "source": [
    "sns.boxplot('year' , data=df)"
   ]
  },
  {
   "cell_type": "markdown",
   "id": "9aeae084",
   "metadata": {},
   "source": [
    "- Above plot shows that there are no outliers "
   ]
  },
  {
   "cell_type": "markdown",
   "id": "12b79cb6",
   "metadata": {},
   "source": [
    "* Since I can't find any outliers . Therefore no need of any **********************///"
   ]
  },
  {
   "cell_type": "code",
   "execution_count": null,
   "id": "e1e91796",
   "metadata": {},
   "outputs": [],
   "source": []
  },
  {
   "cell_type": "code",
   "execution_count": null,
   "id": "2a8161da",
   "metadata": {},
   "outputs": [],
   "source": [
    "sns.boxplot('data_value' ,'year', data=df)  # only numerical attribute/column\n",
    "plt.show()"
   ]
  },
  {
   "cell_type": "code",
   "execution_count": null,
   "id": "ec0283ca",
   "metadata": {},
   "outputs": [],
   "source": []
  },
  {
   "cell_type": "markdown",
   "id": "4b1bfea9",
   "metadata": {},
   "source": [
    "### <font color ='red'> Scatter plot </font>"
   ]
  },
  {
   "cell_type": "code",
   "execution_count": null,
   "id": "f839b7bb",
   "metadata": {},
   "outputs": [],
   "source": [
    "sns.scatterplot('data_value' ,'year' ,data=df)"
   ]
  },
  {
   "cell_type": "markdown",
   "id": "3a81ba72",
   "metadata": {},
   "source": [
    "* Looking at the plot above, there are no data points *****///"
   ]
  },
  {
   "cell_type": "markdown",
   "id": "a644ee6c",
   "metadata": {},
   "source": [
    "###  <font color ='red'> Z-Score </font>"
   ]
  },
  {
   "cell_type": "code",
   "execution_count": null,
   "id": "0ff9986a",
   "metadata": {},
   "outputs": [],
   "source": [
    "# Zscore method is used to do heavy outlier treatments to the data.\n",
    "# Here we import the zscore and calculate the zscore for the column that we are selecting for analysing and then finding out the graph for zscore."
   ]
  },
  {
   "cell_type": "code",
   "execution_count": null,
   "id": "382f990a",
   "metadata": {},
   "outputs": [],
   "source": [
    "# Later, we reduce the dataframe into smaller ones having zscore greater than -3 and less than +3 to reduce the outliers.\n",
    "# This is called zscore outlier treatment."
   ]
  },
  {
   "cell_type": "code",
   "execution_count": null,
   "id": "410b4438",
   "metadata": {},
   "outputs": [],
   "source": [
    "from scipy.stats import zscore"
   ]
  },
  {
   "cell_type": "code",
   "execution_count": null,
   "id": "4ea1996c",
   "metadata": {},
   "outputs": [],
   "source": [
    "df['zscore'] = zscore(df['data_value'])"
   ]
  },
  {
   "cell_type": "markdown",
   "id": "20dc5432",
   "metadata": {},
   "source": [
    "## This is how zscore graph looks like :"
   ]
  },
  {
   "cell_type": "code",
   "execution_count": null,
   "id": "ce59fe83",
   "metadata": {},
   "outputs": [],
   "source": [
    "sns.distplot(df['zscore'] , kde=False)"
   ]
  },
  {
   "cell_type": "markdown",
   "id": "d817b16e",
   "metadata": {},
   "source": [
    "#### As you can see the values are in the range of negative 1.5 and positive 1.5.  To treat a Outlier it should be -3<= zscore <=+3"
   ]
  },
  {
   "cell_type": "code",
   "execution_count": null,
   "id": "6f8c69f3",
   "metadata": {},
   "outputs": [],
   "source": []
  },
  {
   "cell_type": "code",
   "execution_count": null,
   "id": "a3dccd76",
   "metadata": {},
   "outputs": [],
   "source": []
  },
  {
   "cell_type": "markdown",
   "id": "e8ec19d1",
   "metadata": {},
   "source": [
    "###  <font color ='red'>  INTERQUANTILE RANGE METHOD  SCORE </font>"
   ]
  },
  {
   "cell_type": "markdown",
   "id": "f82703a7",
   "metadata": {},
   "source": [
    "* - maximum and minimum outliers are represneted by :\n",
    "        IQR = Q3-Q1\n",
    "        lower whiskers = Q1-1.5*IQR\n",
    "        hiher whisker  = Q1 -"
   ]
  },
  {
   "cell_type": "markdown",
   "id": "117fa91b",
   "metadata": {},
   "source": [
    "IQR is interquantile range method used to get the quantile values and it involves reducing the value as upper limit and lower limit"
   ]
  },
  {
   "cell_type": "markdown",
   "id": "6dec02d3",
   "metadata": {},
   "source": [
    "Upper limit = Q3 +1.5(IQR) and Lower limit = Q1–1.5(IQR) and this is very efficient method too."
   ]
  },
  {
   "cell_type": "markdown",
   "id": "f24c3cb2",
   "metadata": {},
   "source": [
    "We have to select the values that lies between the upper and lower limit to get the outlier treatment\n"
   ]
  },
  {
   "cell_type": "code",
   "execution_count": null,
   "id": "aa463d4c",
   "metadata": {},
   "outputs": [],
   "source": [
    "df1 = df[(df['data_value']<upper) & (df['data_value']>lower)]\n",
    "sns.boxplot(df1['data_value'])"
   ]
  },
  {
   "cell_type": "markdown",
   "id": "9dab8c06",
   "metadata": {},
   "source": [
    "This is how efficiently IQR method removes the outliers. The plot also looks right skewed."
   ]
  },
  {
   "cell_type": "code",
   "execution_count": null,
   "id": "a27e5eec",
   "metadata": {},
   "outputs": [],
   "source": []
  },
  {
   "cell_type": "markdown",
   "id": "a5f3f786",
   "metadata": {},
   "source": [
    "###  <font color ='red'> UNIVARIATE ANALYSIS NUMERICAL </font>"
   ]
  },
  {
   "cell_type": "markdown",
   "id": "78f8edc0",
   "metadata": {},
   "source": [
    "### <font color ='red'> HIST PLOT </font>"
   ]
  },
  {
   "cell_type": "code",
   "execution_count": null,
   "id": "ee438c27",
   "metadata": {},
   "outputs": [],
   "source": [
    "# A histogram is a value distribution plot of numerical columns. \n",
    "#It basically creates bins in various ranges in values and plots it where we can visualize how values are distributed.\n",
    "# We can have a look where more values lie like in positive, negative, or at the center(mean).\n",
    "#Let’s have a look at the 'year' column."
   ]
  },
  {
   "cell_type": "code",
   "execution_count": null,
   "id": "431025f1",
   "metadata": {},
   "outputs": [],
   "source": [
    "plt.hist(df['data_value'], bins=20)\n",
    "plt.show()"
   ]
  },
  {
   "cell_type": "code",
   "execution_count": null,
   "id": "aba872c0",
   "metadata": {},
   "outputs": [],
   "source": [
    "plt.hist(df['year'], bins=20)\n",
    "plt.show()"
   ]
  },
  {
   "cell_type": "code",
   "execution_count": null,
   "id": "146df478",
   "metadata": {},
   "outputs": [],
   "source": [
    "# **********************"
   ]
  },
  {
   "cell_type": "markdown",
   "id": "c84c677d",
   "metadata": {},
   "source": [
    "### <font color ='red'> DENSITY PLOT </font>"
   ]
  },
  {
   "cell_type": "code",
   "execution_count": null,
   "id": "fdf7adb2",
   "metadata": {},
   "outputs": [],
   "source": [
    "#Density Plot is a type of data visualization tool. It is a variation of the histogram that uses ‘kernel smoothing’ while plotting the values.\n",
    "# It is a continuous and smooth version of a histogram inferred from a data."
   ]
  },
  {
   "cell_type": "code",
   "execution_count": null,
   "id": "2e1418fe",
   "metadata": {},
   "outputs": [],
   "source": [
    "df.year.plot.density(color='green')\n",
    "plt.title('Density plot for years of gas releasing')\n",
    "plt.show()"
   ]
  },
  {
   "cell_type": "markdown",
   "id": "e50ca400",
   "metadata": {},
   "source": [
    "### <font color ='red'> PIE PLOT </font> "
   ]
  },
  {
   "cell_type": "markdown",
   "id": "458693b2",
   "metadata": {},
   "source": [
    "The pie chart is also the same as the countplot, only gives you additional information about the percentage presence of each category in data means which category is getting how much weightage in data. let us check about the variable column, what is a percentage of carbob dioxide , methane , nitrous oxide etc..."
   ]
  },
  {
   "cell_type": "code",
   "execution_count": null,
   "id": "797b2207",
   "metadata": {},
   "outputs": [],
   "source": [
    "df['variable'].value_counts().plot(kind=\"pie\", autopct=\"%.2f\")\n",
    "plt.show()"
   ]
  },
  {
   "cell_type": "code",
   "execution_count": null,
   "id": "6b7a07c4",
   "metadata": {},
   "outputs": [],
   "source": [
    "df['source'].value_counts().plot(kind=\"pie\", autopct=\"%.2f\")\n",
    "plt.show()"
   ]
  },
  {
   "cell_type": "code",
   "execution_count": null,
   "id": "ccca0329",
   "metadata": {},
   "outputs": [],
   "source": [
    "df['magnitude'].value_counts().plot(kind=\"pie\", autopct=\"%.2f\")\n",
    "plt.show()"
   ]
  },
  {
   "cell_type": "markdown",
   "id": "9bf777a9",
   "metadata": {},
   "source": [
    "### <font color='red'> DIST PLOT </font>"
   ]
  },
  {
   "cell_type": "code",
   "execution_count": null,
   "id": "2a7a2aa0",
   "metadata": {},
   "outputs": [],
   "source": [
    "#Distplot is also known as the second Histogram because it is a slight improvement version of the Histogram.\n",
    "#Distplot gives us a KDE(Kernel Density Estimation) over histogram which explains PDF(Probability Density Function) \n",
    "#which means what is the probability of each value occurring in this column. If you have study statistics \n",
    "#before then definitely you should know about PDF function."
   ]
  },
  {
   "cell_type": "code",
   "execution_count": null,
   "id": "59fa39bf",
   "metadata": {},
   "outputs": [],
   "source": [
    "sns.distplot(df['data_value']) \n",
    "plt.show()"
   ]
  },
  {
   "cell_type": "markdown",
   "id": "7afe7749",
   "metadata": {},
   "source": [
    "### <font color ='red'> LINE PLOT </font>"
   ]
  },
  {
   "cell_type": "code",
   "execution_count": null,
   "id": "ce127847",
   "metadata": {},
   "outputs": [],
   "source": [
    "sns.lineplot(x=\"year\", y=\"data_value\",data=df)"
   ]
  },
  {
   "cell_type": "code",
   "execution_count": null,
   "id": "8e1648fc",
   "metadata": {},
   "outputs": [],
   "source": [
    "fig, ax = plt.subplots(figsize=(7, 7))\n",
    "sns.barplot(\n",
    " x=df['data_value'].head(10),\n",
    " y=df['year'].head(10),\n",
    " data=df,ax=ax);"
   ]
  },
  {
   "cell_type": "markdown",
   "id": "ec67ae5a",
   "metadata": {},
   "source": [
    "### <font color ='red'> BAR PLOT </font>"
   ]
  },
  {
   "cell_type": "code",
   "execution_count": null,
   "id": "75512a69",
   "metadata": {},
   "outputs": [],
   "source": [
    "sns.barplot(df['data_value'])\n",
    "plt.show()"
   ]
  },
  {
   "cell_type": "code",
   "execution_count": null,
   "id": "d03b5f3a",
   "metadata": {},
   "outputs": [],
   "source": [
    "df['variable'].value_counts(normalize=True).plot.barh(figsize=[10,7])\n",
    "plt.show()\n"
   ]
  },
  {
   "cell_type": "code",
   "execution_count": null,
   "id": "5aeda79a",
   "metadata": {},
   "outputs": [],
   "source": [
    "df['anzsic_descriptor'].value_counts(normalize=True).plot.barh(figsize=[10,40])\n",
    "plt.show()"
   ]
  },
  {
   "cell_type": "code",
   "execution_count": null,
   "id": "33cc1ddd",
   "metadata": {},
   "outputs": [],
   "source": [
    "df['magnitude'].value_counts(normalize=True).plot.barh(figsize=[10,7])\n",
    "plt.show()"
   ]
  },
  {
   "cell_type": "code",
   "execution_count": null,
   "id": "df9848ba",
   "metadata": {},
   "outputs": [],
   "source": [
    "df['source'].value_counts(normalize=True).plot.barh(figsize=[10,7])\n",
    "plt.show()"
   ]
  },
  {
   "cell_type": "code",
   "execution_count": null,
   "id": "a850abfa",
   "metadata": {},
   "outputs": [],
   "source": [
    "plt.figure(figsize=(80,200))\n",
    "df['variable'].value_counts(normalize=True).plot(kind='pie')\n",
    "plt.show()"
   ]
  },
  {
   "cell_type": "code",
   "execution_count": null,
   "id": "62ffd8b3",
   "metadata": {},
   "outputs": [],
   "source": []
  }
 ],
 "metadata": {
  "kernelspec": {
   "display_name": "Python 3",
   "language": "python",
   "name": "python3"
  },
  "language_info": {
   "codemirror_mode": {
    "name": "ipython",
    "version": 3
   },
   "file_extension": ".py",
   "mimetype": "text/x-python",
   "name": "python",
   "nbconvert_exporter": "python",
   "pygments_lexer": "ipython3",
   "version": "3.8.8"
  }
 },
 "nbformat": 4,
 "nbformat_minor": 5
}
